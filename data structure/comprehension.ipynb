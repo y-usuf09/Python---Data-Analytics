{
 "cells": [
  {
   "cell_type": "markdown",
   "metadata": {},
   "source": [
    "# Comprehension in Python\n",
    "**single line code for generation an iterable from an existing iterable**\n",
    "- list Comprehension\n",
    "- set Comprehension\n",
    "- dictionary Comprehension"
   ]
  },
  {
   "cell_type": "markdown",
   "metadata": {},
   "source": [
    "syntax  1:\n",
    "```\n",
    "new_it = [operation for item in existing_it]         {it means iterable}\n",
    "```\n",
    "\n",
    "syntax 2:\n",
    "```\n",
    "```\n",
    "new_it=[operation for item in existing_it if condition]"
   ]
  },
  {
   "cell_type": "code",
   "execution_count": 1,
   "metadata": {},
   "outputs": [
    {
     "name": "stdout",
     "output_type": "stream",
     "text": [
      "[1, 2, 3, 4]\n",
      "[1, 4, 9, 16]\n"
     ]
    }
   ],
   "source": [
    "a=[1,2,3,4]\n",
    "a2=[]\n",
    "for i in a:\n",
    "    s=i**2\n",
    "    a2.append(s)\n",
    "print(a)\n",
    "print(a2)"
   ]
  },
  {
   "cell_type": "code",
   "execution_count": 2,
   "metadata": {},
   "outputs": [
    {
     "name": "stdout",
     "output_type": "stream",
     "text": [
      "[1, 2, 3, 4]\n",
      "[1, 8, 27, 64]\n"
     ]
    }
   ],
   "source": [
    "a=[1,2,3,4]\n",
    "a2=[]\n",
    "for i in a:\n",
    "    s=i**3\n",
    "    a2.append(s)\n",
    "print(a)\n",
    "print(a2)"
   ]
  },
  {
   "cell_type": "code",
   "execution_count": 3,
   "metadata": {},
   "outputs": [
    {
     "name": "stdout",
     "output_type": "stream",
     "text": [
      "[1, 2, 3, 4]\n",
      "[-1, 0, 1, 2]\n"
     ]
    }
   ],
   "source": [
    "a=[1,2,3,4]\n",
    "a2=[]\n",
    "for i in a:\n",
    "    s=i-2\n",
    "    a2.append(s)\n",
    "print(a)\n",
    "print(a2)"
   ]
  },
  {
   "cell_type": "code",
   "execution_count": 4,
   "metadata": {},
   "outputs": [
    {
     "name": "stdout",
     "output_type": "stream",
     "text": [
      "[1, 4, 9, 16]\n"
     ]
    }
   ],
   "source": [
    "a2=[i**2 for i in a]\n",
    "print(a2)"
   ]
  },
  {
   "cell_type": "code",
   "execution_count": 1,
   "metadata": {},
   "outputs": [
    {
     "name": "stdout",
     "output_type": "stream",
     "text": [
      "['alex', 'susan', 'tom', 'jerry']\n",
      "['al', 'su', 'to', 'je']\n"
     ]
    }
   ],
   "source": [
    "names =['alex','susan','tom','jerry']\n",
    "shorts = []\n",
    "for name in names:\n",
    "    shorts.append(name[:2])\n",
    "print(names)\n",
    "print(shorts)"
   ]
  },
  {
   "cell_type": "code",
   "execution_count": 9,
   "metadata": {},
   "outputs": [
    {
     "name": "stdout",
     "output_type": "stream",
     "text": [
      "['al', 'su', 'to', 'je']\n"
     ]
    }
   ],
   "source": [
    "shorts=[name[:2] for name in names]\n",
    "print(shorts)"
   ]
  },
  {
   "cell_type": "code",
   "execution_count": 11,
   "metadata": {},
   "outputs": [
    {
     "name": "stdout",
     "output_type": "stream",
     "text": [
      "[2, -6, -9, -6, -5, -8, -5, -1]\n"
     ]
    }
   ],
   "source": [
    "numbers=[12,4,1,4,5,2,5,9]\n",
    "sub=[i-10 for i in numbers]\n",
    "print(sub)"
   ]
  },
  {
   "cell_type": "code",
   "execution_count": 12,
   "metadata": {},
   "outputs": [
    {
     "name": "stdout",
     "output_type": "stream",
     "text": [
      "[12, 4, 1, 4, 5, 2, 5, 9]\n",
      "[2, -6, -6, -8]\n"
     ]
    }
   ],
   "source": [
    "numbers=[12,4,1,4,5,2,5,9]\n",
    "evens=[n-10 for n in numbers if n%2==0]\n",
    "print(numbers)\n",
    "print(evens)"
   ]
  },
  {
   "cell_type": "code",
   "execution_count": 2,
   "metadata": {},
   "outputs": [
    {
     "name": "stdout",
     "output_type": "stream",
     "text": [
      "['raman', 'sita', 'gita', 'rahul', 'sohan']\n",
      "['sita', 'gita']\n"
     ]
    }
   ],
   "source": [
    "guests=['raman','sita','gita','rahul','sohan']\n",
    "guest_i=[name for name in guests if 'i' in name.lower()]\n",
    "print(guests)\n",
    "print(guest_i)"
   ]
  },
  {
   "cell_type": "markdown",
   "metadata": {},
   "source": [
    "# Set Comprehension"
   ]
  },
  {
   "cell_type": "code",
   "execution_count": 15,
   "metadata": {},
   "outputs": [
    {
     "name": "stdout",
     "output_type": "stream",
     "text": [
      "{1, 2, 3}\n",
      "{1, 4, 9}\n"
     ]
    }
   ],
   "source": [
    "x={1,2,3}\n",
    "x2={i**2 for i in x}\n",
    "print(x)\n",
    "print(x2)"
   ]
  },
  {
   "cell_type": "code",
   "execution_count": 17,
   "metadata": {},
   "outputs": [
    {
     "name": "stdout",
     "output_type": "stream",
     "text": [
      "{1, 2, 3, 4, 5, 6}\n",
      "{0, 1, -1, -4, -3, -2}\n"
     ]
    }
   ],
   "source": [
    "x={1,2,3,4,5,6,1,1,1}\n",
    "x2={i-5 for i in x}\n",
    "print(x)\n",
    "print(x2)"
   ]
  },
  {
   "cell_type": "code",
   "execution_count": 18,
   "metadata": {},
   "outputs": [
    {
     "name": "stdout",
     "output_type": "stream",
     "text": [
      "{'a': 'APPLE', 'b': 'BANANA', 'c': 'CHERRY'}\n"
     ]
    }
   ],
   "source": [
    "# dictionary comprehension\n",
    "x={'a':'apple', 'b':'banana', 'c':'cherry'}\n",
    "x2={k:v.upper() for k,v in x.items()}\n",
    "print(x2)"
   ]
  },
  {
   "cell_type": "code",
   "execution_count": 21,
   "metadata": {},
   "outputs": [
    {
     "name": "stdout",
     "output_type": "stream",
     "text": [
      "[13, 23, 11, 22, 35]\n",
      "{0: 13, 1: 23, 2: 11, 3: 22, 4: 35}\n"
     ]
    }
   ],
   "source": [
    "# list to dict\n",
    "x=[13,23,11,22,35]\n",
    "xd={i:v for i,v in enumerate(x)}\n",
    "print(x)\n",
    "print(xd)"
   ]
  },
  {
   "cell_type": "code",
   "execution_count": 23,
   "metadata": {},
   "outputs": [
    {
     "name": "stdout",
     "output_type": "stream",
     "text": [
      "[13, 23, 11, 22, 35]\n",
      "{13: 'a', 23: 'b', 11: 'c', 22: 'd', 35: 'e'}\n"
     ]
    }
   ],
   "source": [
    "# list to dict\n",
    "x=[13,23,11,22,35]\n",
    "y=['a','b','c','d','e']\n",
    "\n",
    "xd={i2:i1 for i1,i2 in zip(y,x)}\n",
    "print(x)\n",
    "print(xd)"
   ]
  },
  {
   "cell_type": "code",
   "execution_count": 24,
   "metadata": {},
   "outputs": [
    {
     "name": "stdout",
     "output_type": "stream",
     "text": [
      "<generator object <genexpr> at 0x000001ACE983D8A0>\n"
     ]
    }
   ],
   "source": [
    "x=(1,2,3)\n",
    "x2=(i**2 for i in x)\n",
    "print(x2)"
   ]
  },
  {
   "cell_type": "code",
   "execution_count": 1,
   "metadata": {},
   "outputs": [
    {
     "name": "stdout",
     "output_type": "stream",
     "text": [
      "<generator object <genexpr> at 0x000001B682106A80>\n"
     ]
    },
    {
     "data": {
      "text/plain": [
       "[1, 4, 9]"
      ]
     },
     "execution_count": 1,
     "metadata": {},
     "output_type": "execute_result"
    }
   ],
   "source": [
    "x = (1,2,3)\n",
    "x2=(i**2 for i in x)\n",
    "print(x2)\n",
    "list(x2)"
   ]
  },
  {
   "cell_type": "code",
   "execution_count": 26,
   "metadata": {},
   "outputs": [
    {
     "data": {
      "text/plain": [
       "[1, 3, 5, 7, 9, 11, 13, 15, 17, 19]"
      ]
     },
     "execution_count": 26,
     "metadata": {},
     "output_type": "execute_result"
    }
   ],
   "source": [
    "list(range(1,20,2))\n"
   ]
  },
  {
   "cell_type": "code",
   "execution_count": null,
   "metadata": {},
   "outputs": [],
   "source": []
  }
 ],
 "metadata": {
  "kernelspec": {
   "display_name": "Python 3",
   "language": "python",
   "name": "python3"
  },
  "language_info": {
   "codemirror_mode": {
    "name": "ipython",
    "version": 3
   },
   "file_extension": ".py",
   "mimetype": "text/x-python",
   "name": "python",
   "nbconvert_exporter": "python",
   "pygments_lexer": "ipython3",
   "version": "3.11.5"
  }
 },
 "nbformat": 4,
 "nbformat_minor": 2
}
