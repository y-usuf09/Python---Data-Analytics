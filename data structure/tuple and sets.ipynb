{
 "cells": [
  {
   "cell_type": "markdown",
   "metadata": {},
   "source": [
    "# tuple\n",
    "python handlesall multiple values as tuple\n",
    "- create\n",
    "- tupple packing and unpacking"
   ]
  },
  {
   "cell_type": "code",
   "execution_count": 14,
   "metadata": {},
   "outputs": [
    {
     "name": "stdout",
     "output_type": "stream",
     "text": [
      "(1, 2, 3)\n",
      "(1, 3, 7)\n"
     ]
    }
   ],
   "source": [
    "x=(1,2,3) # tuple\n",
    "y=1,3,7   # tuple\n",
    "print(x)\n",
    "print(y)"
   ]
  },
  {
   "cell_type": "code",
   "execution_count": 15,
   "metadata": {},
   "outputs": [
    {
     "name": "stdout",
     "output_type": "stream",
     "text": [
      "(0, 't')\n",
      "(1, 'u')\n",
      "(2, 'p')\n",
      "(3, 'l')\n",
      "(4, 'e')\n"
     ]
    }
   ],
   "source": [
    "word= 'tuple'\n",
    "for i in enumerate(word):\n",
    "    print(i)"
   ]
  },
  {
   "cell_type": "code",
   "execution_count": 16,
   "metadata": {},
   "outputs": [
    {
     "name": "stdout",
     "output_type": "stream",
     "text": [
      "4\n",
      "1\n",
      "6\n"
     ]
    }
   ],
   "source": [
    "x=(1,2,3,4,5,3,2,1,2,2)\n",
    "print(x.count(2))\n",
    "print(x.index(2)) # search for 2 and return the index\n",
    "print(x.index(2,2)) # search for 2, starting from index 2"
   ]
  },
  {
   "cell_type": "code",
   "execution_count": 17,
   "metadata": {},
   "outputs": [
    {
     "name": "stdout",
     "output_type": "stream",
     "text": [
      "gaama beta Alpha\n"
     ]
    }
   ],
   "source": [
    "data= ('Alpha','beta','gaama')\n",
    "a,b,c=data # unpacking\n",
    "print(c,b,a)"
   ]
  },
  {
   "cell_type": "code",
   "execution_count": 18,
   "metadata": {},
   "outputs": [
    {
     "ename": "ValueError",
     "evalue": "too many values to unpack (expected 2)",
     "output_type": "error",
     "traceback": [
      "\u001b[1;31m---------------------------------------------------------------------------\u001b[0m",
      "\u001b[1;31mValueError\u001b[0m                                Traceback (most recent call last)",
      "\u001b[1;32md:\\Python - Data Analytics\\data structure\\tuple and sets.ipynb Cell 6\u001b[0m line \u001b[0;36m1\n\u001b[1;32m----> <a href='vscode-notebook-cell:/d%3A/Python%20-%20Data%20Analytics/data%20structure/tuple%20and%20sets.ipynb#W5sZmlsZQ%3D%3D?line=0'>1</a>\u001b[0m a,b\u001b[39m=\u001b[39mdata \u001b[39m# error, size mismatch\u001b[39;00m\n",
      "\u001b[1;31mValueError\u001b[0m: too many values to unpack (expected 2)"
     ]
    }
   ],
   "source": [
    "a,b=data # error, size mismatch\n"
   ]
  },
  {
   "cell_type": "code",
   "execution_count": null,
   "metadata": {},
   "outputs": [],
   "source": [
    "data=('aplha','beta','gaama','delta','epsilion')\n"
   ]
  },
  {
   "cell_type": "code",
   "execution_count": null,
   "metadata": {},
   "outputs": [
    {
     "name": "stdout",
     "output_type": "stream",
     "text": [
      "Alpha ['beta', 'gaama']\n",
      "['Alpha', 'beta']\n",
      "gaama\n",
      "Alpha ['beta'] gaama\n",
      "Alpha beta gaama []\n"
     ]
    }
   ],
   "source": [
    "# take first value in a variable and put the rest in second variable\n",
    "i,*j=data\n",
    "print(i,j)\n",
    "*x,y=data\n",
    "print(x)\n",
    "print(y)\n",
    "a,*b,c=data\n",
    "print(a,b,c,)\n",
    "a,b,c,*d=data\n",
    "print(a,b,c,d)\n"
   ]
  },
  {
   "cell_type": "code",
   "execution_count": null,
   "metadata": {},
   "outputs": [
    {
     "name": "stdout",
     "output_type": "stream",
     "text": [
      "<class 'tuple'> ()\n"
     ]
    }
   ],
   "source": [
    "a=() # empty tuple\n",
    "print(type(a),a)"
   ]
  },
  {
   "cell_type": "code",
   "execution_count": null,
   "metadata": {},
   "outputs": [
    {
     "name": "stdout",
     "output_type": "stream",
     "text": [
      "(1,) <class 'tuple'>\n"
     ]
    }
   ],
   "source": [
    "x=(1,) # single element tuple, COMMA IS IMPORTANT\n",
    "print(x,type(x))"
   ]
  },
  {
   "cell_type": "markdown",
   "metadata": {},
   "source": [
    "# Set\n",
    "- create\n",
    "- set operations\n",
    "- set operations"
   ]
  },
  {
   "cell_type": "code",
   "execution_count": null,
   "metadata": {},
   "outputs": [
    {
     "name": "stdout",
     "output_type": "stream",
     "text": [
      "set()\n",
      "{1, 2, 3}\n",
      "{1, 2, 3, 4, 5, 6}\n",
      "{'C', 'B', 'A'}\n"
     ]
    }
   ],
   "source": [
    "a= set() # Empty set\n",
    "b={1,2,3}\n",
    "c={1,2,4,5,2,3,1,3,2,4,1,6,5,4,3}\n",
    "print(a)\n",
    "print(b)\n",
    "print(c)\n",
    "d={'A','B','C'}\n",
    "print(d)"
   ]
  },
  {
   "cell_type": "code",
   "execution_count": null,
   "metadata": {},
   "outputs": [
    {
     "name": "stdout",
     "output_type": "stream",
     "text": [
      "{1, 2, 3, 4, 5, 6}\n",
      "{1, 2, 3, 4, 5, 6, 11, 12, 100}\n"
     ]
    }
   ],
   "source": [
    "c.add(5)\n",
    "print(c)\n",
    "c.add(100)\n",
    "c.update([1,2,3,11,12])\n",
    "print(c)"
   ]
  },
  {
   "cell_type": "code",
   "execution_count": null,
   "metadata": {},
   "outputs": [
    {
     "name": "stdout",
     "output_type": "stream",
     "text": [
      "{1, 2, 3, 4, 5, 6, 11, 12}\n",
      "{1, 2, 4, 5, 6, 11, 12}\n"
     ]
    }
   ],
   "source": [
    "c.remove(100)\n",
    "print(c)\n",
    "c.discard(3) # better than remove\n",
    "print(c)"
   ]
  },
  {
   "cell_type": "code",
   "execution_count": 19,
   "metadata": {},
   "outputs": [
    {
     "ename": "AttributeError",
     "evalue": "'str' object has no attribute 'pop'",
     "output_type": "error",
     "traceback": [
      "\u001b[1;31m---------------------------------------------------------------------------\u001b[0m",
      "\u001b[1;31mAttributeError\u001b[0m                            Traceback (most recent call last)",
      "\u001b[1;32md:\\Python - Data Analytics\\data structure\\tuple and sets.ipynb Cell 15\u001b[0m line \u001b[0;36m1\n\u001b[1;32m----> <a href='vscode-notebook-cell:/d%3A/Python%20-%20Data%20Analytics/data%20structure/tuple%20and%20sets.ipynb#X20sZmlsZQ%3D%3D?line=0'>1</a>\u001b[0m c\u001b[39m.\u001b[39;49mpop() \u001b[39m# remove random element\u001b[39;00m\n\u001b[0;32m      <a href='vscode-notebook-cell:/d%3A/Python%20-%20Data%20Analytics/data%20structure/tuple%20and%20sets.ipynb#X20sZmlsZQ%3D%3D?line=1'>2</a>\u001b[0m \u001b[39mprint\u001b[39m(c)\n",
      "\u001b[1;31mAttributeError\u001b[0m: 'str' object has no attribute 'pop'"
     ]
    }
   ],
   "source": [
    "c.pop() # remove random element\n",
    "print(c)"
   ]
  },
  {
   "cell_type": "code",
   "execution_count": null,
   "metadata": {},
   "outputs": [],
   "source": [
    "movies1={'aaa','bbb','ccc','ddd'}\n",
    "movies2={'fff','ggg','hhh','iii','jjj'}\n",
    "movies3={'aaa','bbb','ccc','fff','ggg','hhh','kkk'}\n"
   ]
  },
  {
   "cell_type": "markdown",
   "metadata": {},
   "source": [
    "- '|' union\n",
    "- & intersection\n",
    "- -difference\n",
    "- ^ symmetric difference"
   ]
  },
  {
   "cell_type": "code",
   "execution_count": null,
   "metadata": {},
   "outputs": [
    {
     "name": "stdout",
     "output_type": "stream",
     "text": [
      "{'kkk', 'ggg', 'hhh', 'aaa', 'bbb', 'ccc', 'ddd', 'fff'}\n",
      "{'ggg', 'hhh', 'aaa', 'bbb', 'iii', 'ccc', 'ddd', 'fff', 'jjj'}\n"
     ]
    }
   ],
   "source": [
    "print(movies1.union(movies3))\n",
    "print(movies1 | movies2)"
   ]
  },
  {
   "cell_type": "code",
   "execution_count": null,
   "metadata": {},
   "outputs": [
    {
     "name": "stdout",
     "output_type": "stream",
     "text": [
      "{'aaa', 'bbb', 'ccc'}\n",
      "{'aaa', 'bbb', 'ccc'}\n"
     ]
    }
   ],
   "source": [
    "print(movies1.intersection(movies3))\n",
    "print(movies1 & movies3)"
   ]
  },
  {
   "cell_type": "code",
   "execution_count": null,
   "metadata": {},
   "outputs": [
    {
     "name": "stdout",
     "output_type": "stream",
     "text": [
      "{'ddd'}\n",
      "{'ddd'}\n",
      "{'kkk', 'hhh', 'fff', 'ggg'}\n"
     ]
    }
   ],
   "source": [
    "print(movies1.difference(movies3))\n",
    "print(movies1 - movies3)\n",
    "print(movies3 - movies1)"
   ]
  },
  {
   "cell_type": "code",
   "execution_count": null,
   "metadata": {},
   "outputs": [
    {
     "name": "stdout",
     "output_type": "stream",
     "text": [
      "{'kkk', 'ddd', 'ggg', 'hhh', 'fff'}\n",
      "{'kkk', 'ddd', 'ggg', 'hhh', 'fff'}\n"
     ]
    }
   ],
   "source": [
    "print(movies1.symmetric_difference(movies3))\n",
    "print(movies1 ^ movies3)"
   ]
  },
  {
   "cell_type": "markdown",
   "metadata": {},
   "source": [
    "- Relation\n",
    "  - issuperset\n",
    "  - issubset\n",
    "  - isdisjoint"
   ]
  },
  {
   "cell_type": "code",
   "execution_count": null,
   "metadata": {},
   "outputs": [
    {
     "data": {
      "text/plain": [
       "False"
      ]
     },
     "execution_count": 19,
     "metadata": {},
     "output_type": "execute_result"
    }
   ],
   "source": [
    "movies3.issuperset(movies2)"
   ]
  },
  {
   "cell_type": "code",
   "execution_count": null,
   "metadata": {},
   "outputs": [
    {
     "data": {
      "text/plain": [
       "True"
      ]
     },
     "execution_count": 20,
     "metadata": {},
     "output_type": "execute_result"
    }
   ],
   "source": [
    "movies2.isdisjoint(movies1) # there is nothing common"
   ]
  },
  {
   "cell_type": "code",
   "execution_count": null,
   "metadata": {},
   "outputs": [
    {
     "data": {
      "text/plain": [
       "False"
      ]
     },
     "execution_count": 21,
     "metadata": {},
     "output_type": "execute_result"
    }
   ],
   "source": [
    "movies3.isdisjoint(movies2)"
   ]
  },
  {
   "cell_type": "code",
   "execution_count": null,
   "metadata": {},
   "outputs": [],
   "source": []
  }
 ],
 "metadata": {
  "kernelspec": {
   "display_name": "Python 3",
   "language": "python",
   "name": "python3"
  },
  "language_info": {
   "codemirror_mode": {
    "name": "ipython",
    "version": 3
   },
   "file_extension": ".py",
   "mimetype": "text/x-python",
   "name": "python",
   "nbconvert_exporter": "python",
   "pygments_lexer": "ipython3",
   "version": "3.11.5"
  }
 },
 "nbformat": 4,
 "nbformat_minor": 2
}
