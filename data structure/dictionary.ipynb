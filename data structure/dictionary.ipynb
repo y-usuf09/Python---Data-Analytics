{
 "cells": [
  {
   "cell_type": "markdown",
   "metadata": {},
   "source": [
    "# dictionary\n",
    "- create\n",
    "- access\n",
    "- change\n",
    "- methods"
   ]
  },
  {
   "cell_type": "code",
   "execution_count": 2,
   "metadata": {},
   "outputs": [
    {
     "name": "stdout",
     "output_type": "stream",
     "text": [
      "{'temp': 33, 'humidity': 100, 'weather': 'sunny 😁', 'wind': 6, 'location': 'lucknow'}\n"
     ]
    }
   ],
   "source": [
    "# data=[33,100,'sunny',6,'lucknow']\n",
    "data={\n",
    "    'temp': 33,\n",
    "    'humidity': 100,\n",
    "    'weather': 'sunny 😁',\n",
    "    'wind': 6,\n",
    "    'location': 'lucknow',\n",
    "\n",
    "}\n",
    "print(data)"
   ]
  },
  {
   "cell_type": "code",
   "execution_count": 13,
   "metadata": {},
   "outputs": [
    {
     "data": {
      "text/plain": [
       "{'names': ['mahek', 'natasha', 'aditya', 'yusuf'],\n",
       " 'academics_lvl': ['btech', 'bca', 'bba', 'bcom']}"
      ]
     },
     "execution_count": 13,
     "metadata": {},
     "output_type": "execute_result"
    }
   ],
   "source": [
    "students={\n",
    "    'names': ['mahek','natasha',\n",
    "              'aditya','yusuf'],\n",
    "    'academics_lvl':['btech','bca',\n",
    "                     'bba','bcom']\n",
    "}\n",
    "students"
   ]
  },
  {
   "cell_type": "code",
   "execution_count": 4,
   "metadata": {},
   "outputs": [
    {
     "data": {
      "text/plain": [
       "{'fruits': [{'name': 'apple', 'qty': 10},\n",
       "  {'name': 'banana', 'qty': 50},\n",
       "  {'name': 'cherry', 'qty': 25}],\n",
       " 'vegetable': [{'name': 'tomato', 'qty': 100},\n",
       "  {'name': 'potato', 'qty': 50},\n",
       "  {'name': 'onion', 'qty': 25}]}"
      ]
     },
     "execution_count": 4,
     "metadata": {},
     "output_type": "execute_result"
    }
   ],
   "source": [
    "# nested dictionary\n",
    "products= {\n",
    "    'fruits': [\n",
    "        {'name': 'apple','qty' : 10},\n",
    "        {'name' : 'banana','qty': 50},\n",
    "        {'name': 'cherry','qty' : 25},\n",
    "    ],\n",
    "    'vegetable' :[\n",
    "        {'name':'tomato','qty' : 100},\n",
    "        {'name':'potato','qty' : 50},\n",
    "        {'name':'onion','qty' : 25},\n",
    "    ]\n",
    "}\n",
    "products"
   ]
  },
  {
   "cell_type": "code",
   "execution_count": 5,
   "metadata": {},
   "outputs": [
    {
     "data": {
      "text/plain": [
       "'sunny 😁'"
      ]
     },
     "execution_count": 5,
     "metadata": {},
     "output_type": "execute_result"
    }
   ],
   "source": [
    "data['weather']"
   ]
  },
  {
   "cell_type": "code",
   "execution_count": 6,
   "metadata": {},
   "outputs": [
    {
     "data": {
      "text/plain": [
       "[{'name': 'tomato', 'qty': 100},\n",
       " {'name': 'potato', 'qty': 50},\n",
       " {'name': 'onion', 'qty': 25}]"
      ]
     },
     "execution_count": 6,
     "metadata": {},
     "output_type": "execute_result"
    }
   ],
   "source": [
    "products['vegetable']"
   ]
  },
  {
   "cell_type": "code",
   "execution_count": 7,
   "metadata": {},
   "outputs": [
    {
     "data": {
      "text/plain": [
       "['mahek', 'natasha', 'aditya', 'yusuf']"
      ]
     },
     "execution_count": 7,
     "metadata": {},
     "output_type": "execute_result"
    }
   ],
   "source": [
    "students['names']"
   ]
  },
  {
   "cell_type": "code",
   "execution_count": 8,
   "metadata": {},
   "outputs": [
    {
     "data": {
      "text/plain": [
       "'yusuf'"
      ]
     },
     "execution_count": 8,
     "metadata": {},
     "output_type": "execute_result"
    }
   ],
   "source": [
    "students['names'][3]"
   ]
  },
  {
   "cell_type": "code",
   "execution_count": 9,
   "metadata": {},
   "outputs": [
    {
     "data": {
      "text/plain": [
       "['mahek', 'natasha', 'aditya']"
      ]
     },
     "execution_count": 9,
     "metadata": {},
     "output_type": "execute_result"
    }
   ],
   "source": [
    "students['names'][:3]"
   ]
  },
  {
   "cell_type": "code",
   "execution_count": 10,
   "metadata": {},
   "outputs": [
    {
     "data": {
      "text/plain": [
       "'potato'"
      ]
     },
     "execution_count": 10,
     "metadata": {},
     "output_type": "execute_result"
    }
   ],
   "source": [
    "products['vegetable'][1]['name']"
   ]
  },
  {
   "cell_type": "code",
   "execution_count": 11,
   "metadata": {},
   "outputs": [
    {
     "data": {
      "text/plain": [
       "{'temp': 20,\n",
       " 'humidity': 100,\n",
       " 'weather': 'thunderstorm',\n",
       " 'wind': 6,\n",
       " 'location': 'lucknow'}"
      ]
     },
     "execution_count": 11,
     "metadata": {},
     "output_type": "execute_result"
    }
   ],
   "source": [
    "# CHANGE VALUE OF EXISTING KEY\n",
    "data['temp']=20\n",
    "data['weather'] = 'thunderstorm'\n",
    "data"
   ]
  },
  {
   "cell_type": "code",
   "execution_count": 15,
   "metadata": {},
   "outputs": [
    {
     "data": {
      "text/plain": [
       "{'names': ['mahek', 'natasha', 'aditya', 'yusuf', 'rohan', 'rohan'],\n",
       " 'academics_lvl': ['btech', 'bca', 'bba', 'bcom', '12th']}"
      ]
     },
     "execution_count": 15,
     "metadata": {},
     "output_type": "execute_result"
    }
   ],
   "source": [
    "# dict[new key]= new value (adds new key value pair)\n",
    "students['names'].append('rohan')\n",
    "students['academics_lvl'].append('12th')\n",
    "students"
   ]
  },
  {
   "cell_type": "code",
   "execution_count": null,
   "metadata": {},
   "outputs": [
    {
     "data": {
      "text/plain": [
       "{'names': ['mahek', 'natasha', 'aditya', 'yusuf', 'rohan'],\n",
       " 'academics_lvl': ['btech', 'bca', 'bba', 'bcom'],\n",
       " 'name': 'something'}"
      ]
     },
     "execution_count": 35,
     "metadata": {},
     "output_type": "execute_result"
    }
   ],
   "source": [
    "students['name']= 'something'\n",
    "students"
   ]
  },
  {
   "cell_type": "code",
   "execution_count": null,
   "metadata": {},
   "outputs": [
    {
     "data": {
      "text/plain": [
       "{'fruits': [{'name': 'apple', 'qty': 10},\n",
       "  {'name': 'banana', 'qty': 50},\n",
       "  {'name': 'cherry', 'qty': 25},\n",
       "  {'name': 'orange', 'qty': 10}],\n",
       " 'vegetable': [{'name': 'tomato', 'qty': 100},\n",
       "  {'name': 'potato', 'qty': 50},\n",
       "  {'name': 'onion', 'qty': 25}]}"
      ]
     },
     "execution_count": 36,
     "metadata": {},
     "output_type": "execute_result"
    }
   ],
   "source": [
    "orange= {'name':'orange','qty': 10}\n",
    "products['fruits'].append(orange)\n",
    "products"
   ]
  },
  {
   "cell_type": "code",
   "execution_count": null,
   "metadata": {},
   "outputs": [
    {
     "data": {
      "text/plain": [
       "{'fruits': [{'name': 'apple', 'qty': 10},\n",
       "  {'name': 'banana', 'qty': 50},\n",
       "  {'name': 'cherry', 'qty': 25},\n",
       "  {'name': 'orange', 'qty': 10}],\n",
       " 'vegetable': [{'name': 'tomato', 'qty': 100},\n",
       "  {'name': 'potato', 'qty': 50},\n",
       "  {'name': 'onion', 'qty': 25}],\n",
       " 'cereals': 'no cereal availables'}"
      ]
     },
     "execution_count": 37,
     "metadata": {},
     "output_type": "execute_result"
    }
   ],
   "source": [
    "products['cereals']= \"no cereal availables\"\n",
    "products"
   ]
  },
  {
   "cell_type": "markdown",
   "metadata": {},
   "source": [
    "- methods\n",
    "  - keys()\n",
    "  - values()\n",
    "  - items()\n",
    "  - get()\n",
    "  - update()\n",
    "  - pop()\n",
    "  \n",
    "\n"
   ]
  },
  {
   "cell_type": "code",
   "execution_count": null,
   "metadata": {},
   "outputs": [
    {
     "data": {
      "text/plain": [
       "['temp', 'humidity', 'weather', 'wind', 'location']"
      ]
     },
     "execution_count": 39,
     "metadata": {},
     "output_type": "execute_result"
    }
   ],
   "source": [
    "list(data.keys())"
   ]
  },
  {
   "cell_type": "code",
   "execution_count": null,
   "metadata": {},
   "outputs": [
    {
     "data": {
      "text/plain": [
       "[33, 100, 'sunny 😁', 6, 'lucknow']"
      ]
     },
     "execution_count": 41,
     "metadata": {},
     "output_type": "execute_result"
    }
   ],
   "source": [
    "list(data.values())"
   ]
  },
  {
   "cell_type": "code",
   "execution_count": null,
   "metadata": {},
   "outputs": [
    {
     "data": {
      "text/plain": [
       "[('temp', 33),\n",
       " ('humidity', 100),\n",
       " ('weather', 'sunny 😁'),\n",
       " ('wind', 6),\n",
       " ('location', 'lucknow')]"
      ]
     },
     "execution_count": 42,
     "metadata": {},
     "output_type": "execute_result"
    }
   ],
   "source": [
    "list(data.items())"
   ]
  },
  {
   "cell_type": "code",
   "execution_count": null,
   "metadata": {},
   "outputs": [
    {
     "name": "stdout",
     "output_type": "stream",
     "text": [
      "temp\n",
      "humidity\n",
      "weather\n",
      "wind\n",
      "location\n"
     ]
    }
   ],
   "source": [
    "# simple for loop in dict only gives us the keys\n",
    "for i in data:\n",
    "    print(i)"
   ]
  },
  {
   "cell_type": "code",
   "execution_count": null,
   "metadata": {},
   "outputs": [
    {
     "name": "stdout",
     "output_type": "stream",
     "text": [
      "('temp', 33)\n",
      "('humidity', 100)\n",
      "('weather', 'sunny 😁')\n",
      "('wind', 6)\n",
      "('location', 'lucknow')\n"
     ]
    }
   ],
   "source": [
    "# to extract key value pair from dict, use .items()\n",
    "for i in data.items():\n",
    "    print(i)"
   ]
  },
  {
   "cell_type": "code",
   "execution_count": null,
   "metadata": {},
   "outputs": [
    {
     "name": "stdout",
     "output_type": "stream",
     "text": [
      "temp : 33\n",
      "humidity : 100\n",
      "weather : sunny 😁\n",
      "wind : 6\n",
      "location : lucknow\n"
     ]
    }
   ],
   "source": [
    "for k, v in data.items():\n",
    "    print(k,':',v)"
   ]
  },
  {
   "cell_type": "code",
   "execution_count": null,
   "metadata": {},
   "outputs": [
    {
     "name": "stdout",
     "output_type": "stream",
     "text": [
      "temp 33\n",
      "humidity 100\n",
      "weather sunny 😁\n",
      "wind 6\n",
      "location lucknow\n"
     ]
    }
   ],
   "source": [
    "for key in data:\n",
    "    print(key, data[key])"
   ]
  },
  {
   "cell_type": "code",
   "execution_count": null,
   "metadata": {},
   "outputs": [
    {
     "name": "stdout",
     "output_type": "stream",
     "text": [
      "33\n",
      "100\n",
      "sunny 😁\n",
      "6\n",
      "lucknow\n"
     ]
    }
   ],
   "source": [
    "for key in data:\n",
    "    print(data[key])"
   ]
  },
  {
   "cell_type": "code",
   "execution_count": null,
   "metadata": {},
   "outputs": [],
   "source": [
    "x = {\n",
    "    'apple' : 'juice',\n",
    "    'orange' :'jam',\n",
    "    'pineapple': 'juice',\n",
    "\n",
    "}\n",
    "y= {\n",
    "    'potato' : 'fries',\n",
    "    'tomato' : 'ketchup',\n",
    "    \n",
    "}"
   ]
  },
  {
   "cell_type": "code",
   "execution_count": null,
   "metadata": {},
   "outputs": [
    {
     "name": "stdout",
     "output_type": "stream",
     "text": [
      "{'apple': 'juice', 'orange': 'jam', 'pineapple': 'juice', 'potato': 'fries', 'tomato': 'ketchup'}\n",
      "{'potato': 'fries', 'tomato': 'ketchup'}\n"
     ]
    }
   ],
   "source": [
    "x.update(y)\n",
    "print(x)\n",
    "print(y)"
   ]
  },
  {
   "cell_type": "code",
   "execution_count": null,
   "metadata": {},
   "outputs": [],
   "source": [
    "print(x.get('apple')) # valid key - valid value\n",
    "print(x.get('apples')) # invalid key - None\n",
    "print(x.get('apples', 'Not found')) # Invalid key - default value\n",
    "print(x.get('apple', 'Not found')) # valid key - valid value"
   ]
  },
  {
   "cell_type": "code",
   "execution_count": null,
   "metadata": {},
   "outputs": [
    {
     "name": "stdout",
     "output_type": "stream",
     "text": [
      "juice\n"
     ]
    }
   ],
   "source": [
    "int = input('Enter item name')\n",
    "print(x.get(int, 'Not found'))"
   ]
  },
  {
   "cell_type": "code",
   "execution_count": null,
   "metadata": {},
   "outputs": [],
   "source": []
  }
 ],
 "metadata": {
  "kernelspec": {
   "display_name": "Python 3",
   "language": "python",
   "name": "python3"
  },
  "language_info": {
   "codemirror_mode": {
    "name": "ipython",
    "version": 3
   },
   "file_extension": ".py",
   "mimetype": "text/x-python",
   "name": "python",
   "nbconvert_exporter": "python",
   "pygments_lexer": "ipython3",
   "version": "3.11.5"
  }
 },
 "nbformat": 4,
 "nbformat_minor": 2
}
