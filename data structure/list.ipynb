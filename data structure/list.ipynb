{
 "cells": [
  {
   "cell_type": "markdown",
   "metadata": {},
   "source": [
    "## List\n",
    "- Ordered\n",
    "- Indexed\n",
    "- Mutable\n",
    "- Dublicate Values\n",
    "- Values Only\n",
    "- [ ]\n",
    "\n",
    "## Tuple\n",
    "- Ordered\n",
    "- Indexed\n",
    "- Imutable\n",
    "- Dublicate Values\n",
    "- Values Only\n",
    "- ( )\n",
    "\n",
    "## Set\n",
    "- Unordered\n",
    "- Unindexed\n",
    "- Mutable\n",
    "- Unique Value\n",
    "- Values Only\n",
    "- { }\n",
    "\n",
    "## Dictionaries\n",
    "- Ordered\n",
    "- Unindexed\n",
    "- Mutable\n",
    "- Unique Keys and Dublicate Values\n",
    "- Key value pair\n",
    "- { }"
   ]
  },
  {
   "cell_type": "code",
   "execution_count": 32,
   "metadata": {},
   "outputs": [
    {
     "name": "stdout",
     "output_type": "stream",
     "text": [
      "['alpha', 'beta']\n",
      "['arun,100', 'varun,150']\n",
      "[[1, 2, 3], [2, 3, 4, 5]]\n",
      "[1, 2, 3]\n",
      "[[1, 2, 3], [1, 2, 3], [1, 2, 3], [1, 2, 3]]\n",
      "[2, 2, 2, 2, 2, 2, 2, 2, 2, 2]\n"
     ]
    }
   ],
   "source": [
    "b= [1,2,3] #number list\n",
    "c= ['alpha','beta'] # string\n",
    "d=['arun,100','varun,150'] # mixed datatype\n",
    "e= [[1,2,3],[2,3,4,5]] # nested list\n",
    "f=[1,2,3]\n",
    "g= [f,f,f,f] # list of list\n",
    "h= [2]*10 # list multiplication\n",
    "print(c)\n",
    "print(d)\n",
    "print(e)\n",
    "print(f)\n",
    "print(g)\n",
    "print(h)\n",
    "\n"
   ]
  },
  {
   "cell_type": "code",
   "execution_count": 4,
   "metadata": {},
   "outputs": [
    {
     "name": "stdout",
     "output_type": "stream",
     "text": [
      "1\n",
      "3\n"
     ]
    }
   ],
   "source": [
    "print(b[0]) # indexing #first\n",
    "print(b[2]) # third"
   ]
  },
  {
   "cell_type": "code",
   "execution_count": 34,
   "metadata": {},
   "outputs": [
    {
     "name": "stdout",
     "output_type": "stream",
     "text": [
      "first three [12, 35, 2]\n",
      "last three [1, 2, 56]\n",
      "all content except first 2 and last 2 [2, 1, 67, 1]\n",
      "reverse [56, 2, 1, 67, 1, 2, 35, 12]\n",
      "even indexed item [12, 2, 67, 2]\n"
     ]
    }
   ],
   "source": [
    "num= [12,35,2,1,67,1,2,56]\n",
    "print('first three', num[:3])\n",
    "print('last three',num[-3:])\n",
    "print('all content except first 2 and last 2', num[2:-2])\n",
    "print('reverse', num[::-1])\n",
    "print('even indexed item', num[::2])"
   ]
  },
  {
   "cell_type": "code",
   "execution_count": 6,
   "metadata": {},
   "outputs": [
    {
     "name": "stdout",
     "output_type": "stream",
     "text": [
      "[120, 35, 2, 1, 67, 1, 2, 56]\n",
      "[120, 35, 2, 1, 67, 1, 2, 20]\n"
     ]
    }
   ],
   "source": [
    "num[0]= 120 # change value\n",
    "print(num)\n",
    "num[-1] = 20\n",
    "print(num)"
   ]
  },
  {
   "cell_type": "code",
   "execution_count": 7,
   "metadata": {},
   "outputs": [
    {
     "name": "stdout",
     "output_type": "stream",
     "text": [
      "arun,100\n",
      "varun,150\n"
     ]
    }
   ],
   "source": [
    "for i in d:\n",
    "    print(i)"
   ]
  },
  {
   "cell_type": "code",
   "execution_count": 8,
   "metadata": {},
   "outputs": [
    {
     "name": "stdout",
     "output_type": "stream",
     "text": [
      "arun,100 is string\n",
      "varun,150 is string\n"
     ]
    }
   ],
   "source": [
    "for i in d:\n",
    "    if isinstance(i,str):\n",
    "        print(i, 'is string')\n",
    "    elif isinstance(i, int):\n",
    "        print(i, 'is integer')\n",
    "    else:\n",
    "        print(i, 'is unknown')"
   ]
  },
  {
   "cell_type": "markdown",
   "metadata": {},
   "source": [
    "## List Methods\n",
    "- Adding\n",
    "    - append()\n",
    "    - insert()\n",
    "    - extend()\n",
    "- Remove\n",
    "    - remove()\n",
    "    - pop()\n",
    "    - cleare()\n",
    "- manipulation\n",
    "    - count()\n",
    "    - sort()\n",
    "    - reverse()\n",
    "    - copy()\n",
    "    - index()"
   ]
  },
  {
   "cell_type": "code",
   "execution_count": 9,
   "metadata": {},
   "outputs": [
    {
     "name": "stdout",
     "output_type": "stream",
     "text": [
      "['red', 'orange', 'black']\n"
     ]
    }
   ],
   "source": [
    "colors=[]\n",
    "colors.append('red')\n",
    "colors.append('orange')\n",
    "colors.append('black')\n",
    "print(colors)\n"
   ]
  },
  {
   "cell_type": "code",
   "execution_count": 10,
   "metadata": {},
   "outputs": [],
   "source": [
    "colors.append('brown')\n",
    "colors.append('blue')\n",
    "colors.append('green')\n"
   ]
  },
  {
   "cell_type": "code",
   "execution_count": 11,
   "metadata": {},
   "outputs": [
    {
     "data": {
      "text/plain": [
       "['red', 'orange', 'black', 'brown', 'blue', 'green']"
      ]
     },
     "execution_count": 11,
     "metadata": {},
     "output_type": "execute_result"
    }
   ],
   "source": [
    "colors"
   ]
  },
  {
   "cell_type": "code",
   "execution_count": 12,
   "metadata": {},
   "outputs": [
    {
     "data": {
      "text/plain": [
       "[[1, 2, 3], [2, 3, 4, 5], [1, 3, 4]]"
      ]
     },
     "execution_count": 12,
     "metadata": {},
     "output_type": "execute_result"
    }
   ],
   "source": [
    "e.append([1,3,4])\n",
    "e"
   ]
  },
  {
   "cell_type": "code",
   "execution_count": 13,
   "metadata": {},
   "outputs": [
    {
     "data": {
      "text/plain": [
       "[[1, 2, 3, 5], [2, 3, 4, 5], [1, 3, 4]]"
      ]
     },
     "execution_count": 13,
     "metadata": {},
     "output_type": "execute_result"
    }
   ],
   "source": [
    "e[0].append(5)\n",
    "e"
   ]
  },
  {
   "cell_type": "code",
   "execution_count": 14,
   "metadata": {},
   "outputs": [
    {
     "data": {
      "text/plain": [
       "['red', 'orange', 'pink', 'black', 'brown', 'blue', 'green']"
      ]
     },
     "execution_count": 14,
     "metadata": {},
     "output_type": "execute_result"
    }
   ],
   "source": [
    "colors.insert(2, 'pink')\n",
    "colors"
   ]
  },
  {
   "cell_type": "code",
   "execution_count": 15,
   "metadata": {},
   "outputs": [
    {
     "data": {
      "text/plain": [
       "['white', 'red', 'orange', 'pink', 'black', 'brown', 'blue', 'green']"
      ]
     },
     "execution_count": 15,
     "metadata": {},
     "output_type": "execute_result"
    }
   ],
   "source": [
    "colors.insert(0, 'white')\n",
    "colors"
   ]
  },
  {
   "cell_type": "code",
   "execution_count": 16,
   "metadata": {},
   "outputs": [
    {
     "name": "stdout",
     "output_type": "stream",
     "text": [
      "[1, 2, 3, 4, 5, 6, 2, 3, 4, 5, 6]\n",
      "[1, 2, 3, 4, 5, 6, 2, 3, 4, 5, 6, [2, 3, 4, 5, 6]]\n"
     ]
    }
   ],
   "source": [
    "x=[1,2,3,4,5,6]\n",
    "y=[2,3,4,5,6]\n",
    "x.extend(y)\n",
    "print(x)\n",
    "x.append(y)\n",
    "print(x)"
   ]
  },
  {
   "cell_type": "code",
   "execution_count": 17,
   "metadata": {},
   "outputs": [
    {
     "data": {
      "text/plain": [
       "['white', 'red', 'orange', 'pink', 'black', 'brown', 'blue', 'green']"
      ]
     },
     "execution_count": 17,
     "metadata": {},
     "output_type": "execute_result"
    }
   ],
   "source": [
    "colors\n"
   ]
  },
  {
   "cell_type": "code",
   "execution_count": 18,
   "metadata": {},
   "outputs": [
    {
     "data": {
      "text/plain": [
       "['white', 'red', 'orange', 'pink', 'black', 'brown', 'blue']"
      ]
     },
     "execution_count": 18,
     "metadata": {},
     "output_type": "execute_result"
    }
   ],
   "source": [
    "colors.remove('green')\n",
    "colors"
   ]
  },
  {
   "cell_type": "code",
   "execution_count": 19,
   "metadata": {},
   "outputs": [
    {
     "data": {
      "text/plain": [
       "'orange'"
      ]
     },
     "execution_count": 19,
     "metadata": {},
     "output_type": "execute_result"
    }
   ],
   "source": [
    "colors.pop(2)"
   ]
  },
  {
   "cell_type": "code",
   "execution_count": 20,
   "metadata": {},
   "outputs": [
    {
     "data": {
      "text/plain": [
       "['white', 'red', 'pink', 'black', 'brown', 'blue']"
      ]
     },
     "execution_count": 20,
     "metadata": {},
     "output_type": "execute_result"
    }
   ],
   "source": [
    "colors"
   ]
  },
  {
   "cell_type": "code",
   "execution_count": 21,
   "metadata": {},
   "outputs": [
    {
     "data": {
      "text/plain": [
       "'blue'"
      ]
     },
     "execution_count": 21,
     "metadata": {},
     "output_type": "execute_result"
    }
   ],
   "source": [
    "colors.pop() # remove the list"
   ]
  },
  {
   "cell_type": "code",
   "execution_count": 22,
   "metadata": {},
   "outputs": [
    {
     "data": {
      "text/plain": [
       "['white', 'red', 'pink', 'black', 'brown']"
      ]
     },
     "execution_count": 22,
     "metadata": {},
     "output_type": "execute_result"
    }
   ],
   "source": [
    "colors"
   ]
  },
  {
   "cell_type": "code",
   "execution_count": 23,
   "metadata": {},
   "outputs": [
    {
     "name": "stdout",
     "output_type": "stream",
     "text": [
      "3\n",
      "3\n",
      "0\n",
      "1\n"
     ]
    }
   ],
   "source": [
    "x=[1,2,3,4,5,6,5,4,5,1,1]\n",
    "print(x.count(1))\n",
    "print(x.count(5))\n",
    "print(x.count(10))\n",
    "print(x.count(2))"
   ]
  },
  {
   "cell_type": "code",
   "execution_count": 24,
   "metadata": {},
   "outputs": [
    {
     "name": "stdout",
     "output_type": "stream",
     "text": [
      "[[0, 10], [1, 2], [2, 4], [3, 1]]\n",
      "[[3, 1], [1, 2], [2, 4], [0, 10]]\n"
     ]
    }
   ],
   "source": [
    "\n",
    "#Out of context rn\n",
    "a = [[1,2],[2,4],[3,1],[0,10]]\n",
    "a.sort()\n",
    "print(a)\n",
    "a.sort(key=lambda i:i[1])\n",
    "print(a)"
   ]
  },
  {
   "cell_type": "code",
   "execution_count": 25,
   "metadata": {},
   "outputs": [
    {
     "name": "stdout",
     "output_type": "stream",
     "text": [
      "[1, 1, 1, 1, 2, 2, 2, 2, 3, 3, 3, 5]\n",
      "[5, 3, 3, 3, 2, 2, 2, 2, 1, 1, 1, 1]\n"
     ]
    }
   ],
   "source": [
    "x=[1,2,3,1,1,1,2,2,2,3,3,5]\n",
    "x.sort()\n",
    "print(x)\n",
    "x.sort(reverse=True) #decending order\n",
    "print(x)"
   ]
  },
  {
   "cell_type": "code",
   "execution_count": 26,
   "metadata": {},
   "outputs": [
    {
     "name": "stdout",
     "output_type": "stream",
     "text": [
      "[5, 3, 3, 2, 2, 2, 1, 1, 1, 3, 2, 1]\n"
     ]
    }
   ],
   "source": [
    "x=[1,2,3,1,1,1,2,2,2,3,3,5]\n",
    "x.reverse()\n",
    "print(x)"
   ]
  },
  {
   "cell_type": "code",
   "execution_count": 27,
   "metadata": {},
   "outputs": [
    {
     "data": {
      "text/plain": [
       "1"
      ]
     },
     "execution_count": 27,
     "metadata": {},
     "output_type": "execute_result"
    }
   ],
   "source": [
    "colors.index('red')"
   ]
  },
  {
   "cell_type": "code",
   "execution_count": 28,
   "metadata": {},
   "outputs": [
    {
     "name": "stdout",
     "output_type": "stream",
     "text": [
      "[1, 2, 3]\n"
     ]
    }
   ],
   "source": [
    "x= [1,2,3]\n",
    "print(x)"
   ]
  },
  {
   "cell_type": "code",
   "execution_count": 29,
   "metadata": {},
   "outputs": [
    {
     "name": "stdout",
     "output_type": "stream",
     "text": [
      "[1, 2, 3, 4]\n",
      "[1, 2, 3, 4]\n"
     ]
    }
   ],
   "source": [
    "y=x # shallow copy (reference)\n",
    "y.append(4)\n",
    "print(x)\n",
    "print(y)"
   ]
  },
  {
   "cell_type": "code",
   "execution_count": 30,
   "metadata": {},
   "outputs": [
    {
     "name": "stdout",
     "output_type": "stream",
     "text": [
      "[2, 3, 4]\n",
      "[2, 3, 4]\n",
      "[1, 2, 3, 4, 4]\n"
     ]
    }
   ],
   "source": [
    "z=x.copy() # deep colyy (value)\n",
    "z.append(4)\n",
    "y.remove(1)\n",
    "print(x)\n",
    "print(y)\n",
    "print(z)"
   ]
  },
  {
   "cell_type": "code",
   "execution_count": null,
   "metadata": {},
   "outputs": [],
   "source": []
  }
 ],
 "metadata": {
  "kernelspec": {
   "display_name": "Python 3",
   "language": "python",
   "name": "python3"
  },
  "language_info": {
   "codemirror_mode": {
    "name": "ipython",
    "version": 3
   },
   "file_extension": ".py",
   "mimetype": "text/x-python",
   "name": "python",
   "nbconvert_exporter": "python",
   "pygments_lexer": "ipython3",
   "version": "3.11.5"
  }
 },
 "nbformat": 4,
 "nbformat_minor": 2
}
