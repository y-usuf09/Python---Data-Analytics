{
 "cells": [
  {
   "cell_type": "code",
   "execution_count": null,
   "metadata": {},
   "outputs": [],
   "source": []
  },
  {
   "cell_type": "markdown",
   "metadata": {},
   "source": [
    "Importing libraries\n",
    "- loading the module directly\n",
    "`importing module`\n",
    "- loading alliotems from the module\n",
    "`from module import *`\n",
    "- loading specific func from mobile\n",
    "`from module import func`\n",
    "- loading specific func from module with alias\n",
    "`from module import func as alias`\n",
    "- loading module as alias\n",
    "`import module as alias`"
   ]
  },
  {
   "cell_type": "code",
   "execution_count": 3,
   "metadata": {},
   "outputs": [
    {
     "name": "stdout",
     "output_type": "stream",
     "text": [
      "5.0\n",
      "3.1622776601683795\n"
     ]
    }
   ],
   "source": [
    "import math\n",
    "print(math.hypot(3,4))\n",
    "print(math.sqrt(10))"
   ]
  },
  {
   "cell_type": "code",
   "execution_count": 4,
   "metadata": {},
   "outputs": [
    {
     "name": "stdout",
     "output_type": "stream",
     "text": [
      "5.0\n",
      "10.5\n",
      "-0.5440211108893698\n"
     ]
    }
   ],
   "source": [
    "from math import *\n",
    "print(hypot(3,4))\n",
    "print(fabs(-10.5))\n",
    "print(sin(10))"
   ]
  },
  {
   "cell_type": "code",
   "execution_count": 5,
   "metadata": {},
   "outputs": [
    {
     "ename": "ModuleNotFoundError",
     "evalue": "No module named 'requests'",
     "output_type": "error",
     "traceback": [
      "\u001b[1;31m---------------------------------------------------------------------------\u001b[0m",
      "\u001b[1;31mModuleNotFoundError\u001b[0m                       Traceback (most recent call last)",
      "\u001b[1;32md:\\Python - Data Analytics\\Functions\\predefined function.ipynb Cell 5\u001b[0m line \u001b[0;36m1\n\u001b[1;32m----> <a href='vscode-notebook-cell:/d%3A/Python%20-%20Data%20Analytics/Functions/predefined%20function.ipynb#W4sZmlsZQ%3D%3D?line=0'>1</a>\u001b[0m \u001b[39mfrom\u001b[39;00m \u001b[39mrequests\u001b[39;00m \u001b[39mimport\u001b[39;00m get\n",
      "\u001b[1;31mModuleNotFoundError\u001b[0m: No module named 'requests'"
     ]
    }
   ],
   "source": [
    "from requests import get"
   ]
  },
  {
   "cell_type": "code",
   "execution_count": null,
   "metadata": {},
   "outputs": [
    {
     "name": "stdout",
     "output_type": "stream",
     "text": [
      "Object `get` not found.\n"
     ]
    }
   ],
   "source": [
    "get?\n"
   ]
  },
  {
   "cell_type": "code",
   "execution_count": 6,
   "metadata": {},
   "outputs": [],
   "source": [
    "import math\n",
    "import random\n",
    "import os\n",
    "import datetime as dt"
   ]
  },
  {
   "cell_type": "code",
   "execution_count": 7,
   "metadata": {},
   "outputs": [
    {
     "name": "stdout",
     "output_type": "stream",
     "text": [
      "7.38905609893065\n",
      "2.302585092994046\n",
      "1.0\n",
      "3628800\n",
      "1\n"
     ]
    }
   ],
   "source": [
    "print(math.exp(2))\n",
    "print(math.log(10))\n",
    "print(math.log(10,10))\n",
    "print(math.factorial(10))\n",
    "print(math.gcd(10,5,32))"
   ]
  },
  {
   "cell_type": "code",
   "execution_count": 14,
   "metadata": {},
   "outputs": [
    {
     "name": "stdout",
     "output_type": "stream",
     "text": [
      "0.6394267984578837\n",
      "1\n",
      "[8, 7, 3, 10, 1, 6, 2, 9, 4, 5]\n",
      "8\n",
      "[8, 3, 6]\n",
      "[8, 4, 10]\n"
     ]
    }
   ],
   "source": [
    "random.seed(42)\n",
    "print(random.random())\n",
    "print(random.randint(1,10))\n",
    "nums = [1,2,3,4,5,6,7,8,9,10]\n",
    "random.shuffle(nums)\n",
    "print(nums)\n",
    "print(random.choice(nums))\n",
    "print(random.choices(nums, k=3))\n",
    "print(random.sample(nums, k=3))\n",
    "\n"
   ]
  },
  {
   "cell_type": "code",
   "execution_count": 18,
   "metadata": {},
   "outputs": [
    {
     "data": {
      "text/plain": [
       "datetime.datetime(2023, 10, 27, 19, 49, 37, 460571)"
      ]
     },
     "execution_count": 18,
     "metadata": {},
     "output_type": "execute_result"
    }
   ],
   "source": [
    "dt.datetime.now()"
   ]
  },
  {
   "cell_type": "code",
   "execution_count": 19,
   "metadata": {},
   "outputs": [
    {
     "data": {
      "text/plain": [
       "1698416440.416198"
      ]
     },
     "execution_count": 19,
     "metadata": {},
     "output_type": "execute_result"
    }
   ],
   "source": [
    "dt.datetime.timestamp(dt.datetime.now())"
   ]
  },
  {
   "cell_type": "code",
   "execution_count": 20,
   "metadata": {},
   "outputs": [
    {
     "data": {
      "text/plain": [
       "datetime.time(19, 51, 21, 370136)"
      ]
     },
     "execution_count": 20,
     "metadata": {},
     "output_type": "execute_result"
    }
   ],
   "source": [
    "dt.datetime.now().time()"
   ]
  },
  {
   "cell_type": "code",
   "execution_count": 26,
   "metadata": {},
   "outputs": [
    {
     "name": "stdout",
     "output_type": "stream",
     "text": [
      "Time 19: 56\n",
      "Date 2023: Oct 27 \n"
     ]
    }
   ],
   "source": [
    "cur = dt.datetime.now()\n",
    "print(\"Time\",cur.strftime(\"%H: %M\"))\n",
    "print(\"Date\",cur.strftime(\"%Y: %h %d \"))"
   ]
  },
  {
   "cell_type": "code",
   "execution_count": null,
   "metadata": {},
   "outputs": [],
   "source": []
  }
 ],
 "metadata": {
  "kernelspec": {
   "display_name": "Python 3",
   "language": "python",
   "name": "python3"
  },
  "language_info": {
   "codemirror_mode": {
    "name": "ipython",
    "version": 3
   },
   "file_extension": ".py",
   "mimetype": "text/x-python",
   "name": "python",
   "nbconvert_exporter": "python",
   "pygments_lexer": "ipython3",
   "version": "3.11.5"
  }
 },
 "nbformat": 4,
 "nbformat_minor": 2
}
