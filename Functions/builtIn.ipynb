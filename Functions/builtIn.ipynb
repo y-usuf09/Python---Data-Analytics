{
 "cells": [
  {
   "cell_type": "markdown",
   "metadata": {},
   "source": [
    "- builtin function\n",
    "   - input()\n",
    "   - print()\n",
    "   - type()\n",
    "   - insinstance()                 [True/False]\n",
    "   - len()\n",
    "   - min()\n",
    "   - max()\n",
    "   - sum()\n",
    "   - abs\n",
    "   - round()\n",
    "   - eval()\n",
    "   - all()\n",
    "   - any()\n",
    "   - open()"
   ]
  },
  {
   "cell_type": "code",
   "execution_count": null,
   "metadata": {},
   "outputs": [
    {
     "data": {
      "text/plain": [
       "True"
      ]
     },
     "execution_count": 35,
     "metadata": {},
     "output_type": "execute_result"
    }
   ],
   "source": [
    "x = 129.05\n",
    "isinstance(x,(int,float))\n"
   ]
  },
  {
   "cell_type": "code",
   "execution_count": null,
   "metadata": {},
   "outputs": [
    {
     "data": {
      "text/plain": [
       "False"
      ]
     },
     "execution_count": 36,
     "metadata": {},
     "output_type": "execute_result"
    }
   ],
   "source": [
    "data = (1,2,3)\n",
    "isinstance(data,set)"
   ]
  },
  {
   "cell_type": "code",
   "execution_count": null,
   "metadata": {},
   "outputs": [
    {
     "data": {
      "text/plain": [
       "True"
      ]
     },
     "execution_count": 37,
     "metadata": {},
     "output_type": "execute_result"
    }
   ],
   "source": [
    "data = (1,2,3)\n",
    "isinstance(data,tuple)"
   ]
  },
  {
   "cell_type": "code",
   "execution_count": null,
   "metadata": {},
   "outputs": [
    {
     "data": {
      "text/plain": [
       "10"
      ]
     },
     "execution_count": 38,
     "metadata": {},
     "output_type": "execute_result"
    }
   ],
   "source": [
    "abs(-10)"
   ]
  },
  {
   "cell_type": "code",
   "execution_count": null,
   "metadata": {},
   "outputs": [
    {
     "name": "stdout",
     "output_type": "stream",
     "text": [
      "1.23456\n",
      "1\n"
     ]
    }
   ],
   "source": [
    "a = 1.23456\n",
    "print(a)\n",
    "print(round(a))"
   ]
  },
  {
   "cell_type": "code",
   "execution_count": null,
   "metadata": {},
   "outputs": [
    {
     "name": "stdout",
     "output_type": "stream",
     "text": [
      "1.23456\n",
      "1.23\n"
     ]
    }
   ],
   "source": [
    "a = 1.23456\n",
    "print(a)\n",
    "# Two decimal place\n",
    "print(round(a,2))     "
   ]
  },
  {
   "cell_type": "code",
   "execution_count": 41,
   "metadata": {},
   "outputs": [
    {
     "name": "stdout",
     "output_type": "stream",
     "text": [
      "Your equation is \n"
     ]
    },
    {
     "ename": "SyntaxError",
     "evalue": "invalid syntax (<string>, line 0)",
     "output_type": "error",
     "traceback": [
      "Traceback \u001b[1;36m(most recent call last)\u001b[0m:\n",
      "\u001b[0m  File \u001b[0;32mc:\\Users\\YUSUF\\AppData\\Local\\Programs\\Python\\Python311\\Lib\\site-packages\\IPython\\core\\interactiveshell.py:3526\u001b[0m in \u001b[0;35mrun_code\u001b[0m\n    exec(code_obj, self.user_global_ns, self.user_ns)\u001b[0m\n",
      "\u001b[1;36m  Cell \u001b[1;32mIn[41], line 5\u001b[1;36m\n\u001b[1;33m    print(eval(expression))\u001b[1;36m\n",
      "\u001b[1;36m  File \u001b[1;32m<string>\u001b[1;36m\u001b[0m\n\u001b[1;33m    \u001b[0m\n\u001b[1;37m    ^\u001b[0m\n\u001b[1;31mSyntaxError\u001b[0m\u001b[1;31m:\u001b[0m invalid syntax\n"
     ]
    }
   ],
   "source": [
    "x = 10\n",
    "y = 3\n",
    "expression = input(\"Enter your equation using x and y:\")\n",
    "print(\"Your equation is\", expression)\n",
    "print(eval(expression))"
   ]
  },
  {
   "cell_type": "code",
   "execution_count": null,
   "metadata": {},
   "outputs": [
    {
     "data": {
      "text/plain": [
       "30"
      ]
     },
     "execution_count": 14,
     "metadata": {},
     "output_type": "execute_result"
    }
   ],
   "source": [
    "eval('x*y')"
   ]
  },
  {
   "cell_type": "code",
   "execution_count": null,
   "metadata": {},
   "outputs": [
    {
     "name": "stdout",
     "output_type": "stream",
     "text": [
      "\u001b[1;31mSignature:\u001b[0m \u001b[0meval\u001b[0m\u001b[1;33m(\u001b[0m\u001b[0msource\u001b[0m\u001b[1;33m,\u001b[0m \u001b[0mglobals\u001b[0m\u001b[1;33m=\u001b[0m\u001b[1;32mNone\u001b[0m\u001b[1;33m,\u001b[0m \u001b[0mlocals\u001b[0m\u001b[1;33m=\u001b[0m\u001b[1;32mNone\u001b[0m\u001b[1;33m,\u001b[0m \u001b[1;33m/\u001b[0m\u001b[1;33m)\u001b[0m\u001b[1;33m\u001b[0m\u001b[1;33m\u001b[0m\u001b[0m\n",
      "\u001b[1;31mDocstring:\u001b[0m\n",
      "Evaluate the given source in the context of globals and locals.\n",
      "\n",
      "The source may be a string representing a Python expression\n",
      "or a code object as returned by compile().\n",
      "The globals must be a dictionary and locals can be any mapping,\n",
      "defaulting to the current globals and locals.\n",
      "If only globals is given, locals defaults to it.\n",
      "\u001b[1;31mType:\u001b[0m      builtin_function_or_method"
     ]
    }
   ],
   "source": [
    "eval?"
   ]
  },
  {
   "cell_type": "code",
   "execution_count": null,
   "metadata": {},
   "outputs": [
    {
     "name": "stdout",
     "output_type": "stream",
     "text": [
      "\u001b[1;31mSignature:\u001b[0m \u001b[0misinstance\u001b[0m\u001b[1;33m(\u001b[0m\u001b[0mobj\u001b[0m\u001b[1;33m,\u001b[0m \u001b[0mclass_or_tuple\u001b[0m\u001b[1;33m,\u001b[0m \u001b[1;33m/\u001b[0m\u001b[1;33m)\u001b[0m\u001b[1;33m\u001b[0m\u001b[1;33m\u001b[0m\u001b[0m\n",
      "\u001b[1;31mDocstring:\u001b[0m\n",
      "Return whether an object is an instance of a class or of a subclass thereof.\n",
      "\n",
      "A tuple, as in ``isinstance(x, (A, B, ...))``, may be given as the target to\n",
      "check against. This is equivalent to ``isinstance(x, A) or isinstance(x, B)\n",
      "or ...`` etc.\n",
      "\u001b[1;31mType:\u001b[0m      builtin_function_or_method"
     ]
    }
   ],
   "source": [
    "isinstance?\n"
   ]
  },
  {
   "cell_type": "code",
   "execution_count": null,
   "metadata": {},
   "outputs": [
    {
     "name": "stdout",
     "output_type": "stream",
     "text": [
      "False False True True True\n"
     ]
    }
   ],
   "source": [
    "print(bool(0), bool(''), bool('asd'), bool(-1), bool(120))"
   ]
  },
  {
   "cell_type": "code",
   "execution_count": null,
   "metadata": {},
   "outputs": [
    {
     "name": "stdout",
     "output_type": "stream",
     "text": [
      "True\n",
      "False\n",
      "False\n",
      "False\n",
      "True\n",
      "True\n"
     ]
    }
   ],
   "source": [
    "x = [1,2,3,4,5,6]\n",
    "y = [1,2,3,4,5,0]\n",
    "z = [0,0,0,0,0,0]\n",
    "a = [0,0,0,0,0,1]\n",
    "print(all(x))\n",
    "print(all(y))\n",
    "print(all(z))\n",
    "print(any(z))\n",
    "print(any(a))\n",
    "print(any(x))"
   ]
  },
  {
   "cell_type": "code",
   "execution_count": null,
   "metadata": {},
   "outputs": [
    {
     "name": "stdout",
     "output_type": "stream",
     "text": [
      "\u001b[1;31mSignature:\u001b[0m\n",
      "\u001b[0mopen\u001b[0m\u001b[1;33m(\u001b[0m\u001b[1;33m\n",
      "\u001b[0m    \u001b[0mfile\u001b[0m\u001b[1;33m,\u001b[0m\u001b[1;33m\n",
      "\u001b[0m    \u001b[0mmode\u001b[0m\u001b[1;33m=\u001b[0m\u001b[1;34m'r'\u001b[0m\u001b[1;33m,\u001b[0m\u001b[1;33m\n",
      "\u001b[0m    \u001b[0mbuffering\u001b[0m\u001b[1;33m=\u001b[0m\u001b[1;33m-\u001b[0m\u001b[1;36m1\u001b[0m\u001b[1;33m,\u001b[0m\u001b[1;33m\n",
      "\u001b[0m    \u001b[0mencoding\u001b[0m\u001b[1;33m=\u001b[0m\u001b[1;32mNone\u001b[0m\u001b[1;33m,\u001b[0m\u001b[1;33m\n",
      "\u001b[0m    \u001b[0merrors\u001b[0m\u001b[1;33m=\u001b[0m\u001b[1;32mNone\u001b[0m\u001b[1;33m,\u001b[0m\u001b[1;33m\n",
      "\u001b[0m    \u001b[0mnewline\u001b[0m\u001b[1;33m=\u001b[0m\u001b[1;32mNone\u001b[0m\u001b[1;33m,\u001b[0m\u001b[1;33m\n",
      "\u001b[0m    \u001b[0mclosefd\u001b[0m\u001b[1;33m=\u001b[0m\u001b[1;32mTrue\u001b[0m\u001b[1;33m,\u001b[0m\u001b[1;33m\n",
      "\u001b[0m    \u001b[0mopener\u001b[0m\u001b[1;33m=\u001b[0m\u001b[1;32mNone\u001b[0m\u001b[1;33m,\u001b[0m\u001b[1;33m\n",
      "\u001b[0m\u001b[1;33m)\u001b[0m\u001b[1;33m\u001b[0m\u001b[1;33m\u001b[0m\u001b[0m\n",
      "\u001b[1;31mDocstring:\u001b[0m\n",
      "Open file and return a stream.  Raise OSError upon failure.\n",
      "\n",
      "file is either a text or byte string giving the name (and the path\n",
      "if the file isn't in the current working directory) of the file to\n",
      "be opened or an integer file descriptor of the file to be\n",
      "wrapped. (If a file descriptor is given, it is closed when the\n",
      "returned I/O object is closed, unless closefd is set to False.)\n",
      "\n",
      "mode is an optional string that specifies the mode in which the file\n",
      "is opened. It defaults to 'r' which means open for reading in text\n",
      "mode.  Other common values are 'w' for writing (truncating the file if\n",
      "it already exists), 'x' for creating and writing to a new file, and\n",
      "'a' for appending (which on some Unix systems, means that all writes\n",
      "append to the end of the file regardless of the current seek position).\n",
      "In text mode, if encoding is not specified the encoding used is platform\n",
      "dependent: locale.getencoding() is called to get the current locale encoding.\n",
      "(For reading and writing raw bytes use binary mode and leave encoding\n",
      "unspecified.) The available modes are:\n",
      "\n",
      "========= ===============================================================\n",
      "Character Meaning\n",
      "--------- ---------------------------------------------------------------\n",
      "'r'       open for reading (default)\n",
      "'w'       open for writing, truncating the file first\n",
      "'x'       create a new file and open it for writing\n",
      "'a'       open for writing, appending to the end of the file if it exists\n",
      "'b'       binary mode\n",
      "'t'       text mode (default)\n",
      "'+'       open a disk file for updating (reading and writing)\n",
      "========= ===============================================================\n",
      "\n",
      "The default mode is 'rt' (open for reading text). For binary random\n",
      "access, the mode 'w+b' opens and truncates the file to 0 bytes, while\n",
      "'r+b' opens the file without truncation. The 'x' mode implies 'w' and\n",
      "raises an `FileExistsError` if the file already exists.\n",
      "\n",
      "Python distinguishes between files opened in binary and text modes,\n",
      "even when the underlying operating system doesn't. Files opened in\n",
      "binary mode (appending 'b' to the mode argument) return contents as\n",
      "bytes objects without any decoding. In text mode (the default, or when\n",
      "'t' is appended to the mode argument), the contents of the file are\n",
      "returned as strings, the bytes having been first decoded using a\n",
      "platform-dependent encoding or using the specified encoding if given.\n",
      "\n",
      "buffering is an optional integer used to set the buffering policy.\n",
      "Pass 0 to switch buffering off (only allowed in binary mode), 1 to select\n",
      "line buffering (only usable in text mode), and an integer > 1 to indicate\n",
      "the size of a fixed-size chunk buffer.  When no buffering argument is\n",
      "given, the default buffering policy works as follows:\n",
      "\n",
      "* Binary files are buffered in fixed-size chunks; the size of the buffer\n",
      "  is chosen using a heuristic trying to determine the underlying device's\n",
      "  \"block size\" and falling back on `io.DEFAULT_BUFFER_SIZE`.\n",
      "  On many systems, the buffer will typically be 4096 or 8192 bytes long.\n",
      "\n",
      "* \"Interactive\" text files (files for which isatty() returns True)\n",
      "  use line buffering.  Other text files use the policy described above\n",
      "  for binary files.\n",
      "\n",
      "encoding is the name of the encoding used to decode or encode the\n",
      "file. This should only be used in text mode. The default encoding is\n",
      "platform dependent, but any encoding supported by Python can be\n",
      "passed.  See the codecs module for the list of supported encodings.\n",
      "\n",
      "errors is an optional string that specifies how encoding errors are to\n",
      "be handled---this argument should not be used in binary mode. Pass\n",
      "'strict' to raise a ValueError exception if there is an encoding error\n",
      "(the default of None has the same effect), or pass 'ignore' to ignore\n",
      "errors. (Note that ignoring encoding errors can lead to data loss.)\n",
      "See the documentation for codecs.register or run 'help(codecs.Codec)'\n",
      "for a list of the permitted encoding error strings.\n",
      "\n",
      "newline controls how universal newlines works (it only applies to text\n",
      "mode). It can be None, '', '\\n', '\\r', and '\\r\\n'.  It works as\n",
      "follows:\n",
      "\n",
      "* On input, if newline is None, universal newlines mode is\n",
      "  enabled. Lines in the input can end in '\\n', '\\r', or '\\r\\n', and\n",
      "  these are translated into '\\n' before being returned to the\n",
      "  caller. If it is '', universal newline mode is enabled, but line\n",
      "  endings are returned to the caller untranslated. If it has any of\n",
      "  the other legal values, input lines are only terminated by the given\n",
      "  string, and the line ending is returned to the caller untranslated.\n",
      "\n",
      "* On output, if newline is None, any '\\n' characters written are\n",
      "  translated to the system default line separator, os.linesep. If\n",
      "  newline is '' or '\\n', no translation takes place. If newline is any\n",
      "  of the other legal values, any '\\n' characters written are translated\n",
      "  to the given string.\n",
      "\n",
      "If closefd is False, the underlying file descriptor will be kept open\n",
      "when the file is closed. This does not work when a file name is given\n",
      "and must be True in that case.\n",
      "\n",
      "A custom opener can be used by passing a callable as *opener*. The\n",
      "underlying file descriptor for the file object is then obtained by\n",
      "calling *opener* with (*file*, *flags*). *opener* must return an open\n",
      "file descriptor (passing os.open as *opener* results in functionality\n",
      "similar to passing None).\n",
      "\n",
      "open() returns a file object whose type depends on the mode, and\n",
      "through which the standard file operations such as reading and writing\n",
      "are performed. When open() is used to open a file in a text mode ('w',\n",
      "'r', 'wt', 'rt', etc.), it returns a TextIOWrapper. When used to open\n",
      "a file in a binary mode, the returned class varies: in read binary\n",
      "mode, it returns a BufferedReader; in write binary and append binary\n",
      "modes, it returns a BufferedWriter, and in read/write mode, it returns\n",
      "a BufferedRandom.\n",
      "\n",
      "It is also possible to use a string or bytearray as a file for both\n",
      "reading and writing. For strings StringIO can be used like a file\n",
      "opened in a text mode, and for bytes a BytesIO can be used like a file\n",
      "opened in a binary mode.\n",
      "\u001b[1;31mType:\u001b[0m      function"
     ]
    }
   ],
   "source": [
    "open?\n"
   ]
  },
  {
   "cell_type": "markdown",
   "metadata": {},
   "source": [
    "file handling with open()\n",
    "- read\n",
    "- write\n",
    "- open\n"
   ]
  },
  {
   "cell_type": "code",
   "execution_count": 52,
   "metadata": {},
   "outputs": [
    {
     "name": "stdout",
     "output_type": "stream",
     "text": [
      "<_io.TextIOWrapper name='../dummy.txt' mode='r' encoding='cp1252'>\n"
     ]
    }
   ],
   "source": [
    "# .. mean outside the folder\n",
    "file = open('../dummy.txt')\n",
    "print(file)\n"
   ]
  },
  {
   "cell_type": "code",
   "execution_count": 53,
   "metadata": {},
   "outputs": [
    {
     "data": {
      "text/plain": [
       "'I am Iron Man'"
      ]
     },
     "execution_count": 53,
     "metadata": {},
     "output_type": "execute_result"
    }
   ],
   "source": [
    "file.read()"
   ]
  },
  {
   "cell_type": "code",
   "execution_count": 54,
   "metadata": {},
   "outputs": [
    {
     "name": "stdout",
     "output_type": "stream",
     "text": [
      "I am Iron Man\n"
     ]
    }
   ],
   "source": [
    "with open('../dummy.txt') as file:\n",
    "    print(file.read())"
   ]
  },
  {
   "cell_type": "code",
   "execution_count": 48,
   "metadata": {},
   "outputs": [
    {
     "name": "stdout",
     "output_type": "stream",
     "text": [
      "{\n",
      " \"cells\": [\n",
      "  {\n",
      "   \"cell_type\": \"markdown\",\n",
      "   \"metadata\": {},\n",
      "   \"source\": [\n",
      "    \"- builtin function\\n\",\n",
      "    \"   - input()\\n\",\n",
      "    \"   - print()\\n\",\n",
      "    \"   - type()\\n\",\n",
      "    \"   - insinstance()                 [True/False]\\n\",\n",
      "    \"   - len()\\n\",\n",
      "    \"   - min()\\n\",\n",
      "    \"   - max()\\n\",\n",
      "    \"   - sum()\\n\",\n",
      "    \"   - abs\\n\",\n",
      "    \"   - round()\\n\",\n",
      "    \"   - eval()\\n\",\n",
      "    \"   - all()\\n\",\n",
      "    \"   - any()\\n\",\n",
      "    \"   - open()\"\n",
      "   ]\n",
      "  },\n",
      "  {\n",
      "   \"cell_type\": \"code\",\n",
      "   \"execution_count\": null,\n",
      "   \"metadata\": {},\n",
      "   \"outputs\": [\n",
      "    {\n",
      "     \"data\": {\n",
      "      \"text/plain\": [\n",
      "       \"True\"\n",
      "      ]\n",
      "     },\n",
      "     \"execution_count\": 35,\n",
      "     \"metadata\": {},\n",
      "     \"output_type\": \"execute_result\"\n",
      "    }\n",
      "   ],\n",
      "   \"source\": [\n",
      "    \"x = 129.05\\n\",\n",
      "    \"isinstance(x,(int,float))\\n\"\n",
      "   ]\n",
      "  },\n",
      "  {\n",
      "   \"cell_type\": \"code\",\n",
      "   \"execution_count\": null,\n",
      "   \"metadata\": {},\n",
      "   \"outputs\": [\n",
      "    {\n",
      "     \"data\": {\n",
      "      \"text/plain\": [\n",
      "       \"False\"\n",
      "      ]\n",
      "     },\n",
      "     \"execution_count\": 36,\n",
      "     \"metadata\": {},\n",
      "     \"output_type\": \"execute_result\"\n",
      "    }\n",
      "   ],\n",
      "   \"source\": [\n",
      "    \"data = (1,2,3)\\n\",\n",
      "    \"isinstance(data,set)\"\n",
      "   ]\n",
      "  },\n",
      "  {\n",
      "   \"cell_type\": \"code\",\n",
      "   \"execution_count\": null,\n",
      "   \"metadata\": {},\n",
      "   \"outputs\": [\n",
      "    {\n",
      "     \"data\": {\n",
      "      \"text/plain\": [\n",
      "       \"True\"\n",
      "      ]\n",
      "     },\n",
      "     \"execution_count\": 37,\n",
      "     \"metadata\": {},\n",
      "     \"output_type\": \"execute_result\"\n",
      "    }\n",
      "   ],\n",
      "   \"source\": [\n",
      "    \"data = (1,2,3)\\n\",\n",
      "    \"isinstance(data,tuple)\"\n",
      "   ]\n",
      "  },\n",
      "  {\n",
      "   \"cell_type\": \"code\",\n",
      "   \"execution_count\": null,\n",
      "   \"metadata\": {},\n",
      "   \"outputs\": [\n",
      "    {\n",
      "     \"data\": {\n",
      "      \"text/plain\": [\n",
      "       \"10\"\n",
      "      ]\n",
      "     },\n",
      "     \"execution_count\": 38,\n",
      "     \"metadata\": {},\n",
      "     \"output_type\": \"execute_result\"\n",
      "    }\n",
      "   ],\n",
      "   \"source\": [\n",
      "    \"abs(-10)\"\n",
      "   ]\n",
      "  },\n",
      "  {\n",
      "   \"cell_type\": \"code\",\n",
      "   \"execution_count\": null,\n",
      "   \"metadata\": {},\n",
      "   \"outputs\": [\n",
      "    {\n",
      "     \"name\": \"stdout\",\n",
      "     \"output_type\": \"stream\",\n",
      "     \"text\": [\n",
      "      \"1.23456\\n\",\n",
      "      \"1\\n\"\n",
      "     ]\n",
      "    }\n",
      "   ],\n",
      "   \"source\": [\n",
      "    \"a = 1.23456\\n\",\n",
      "    \"print(a)\\n\",\n",
      "    \"print(round(a))\"\n",
      "   ]\n",
      "  },\n",
      "  {\n",
      "   \"cell_type\": \"code\",\n",
      "   \"execution_count\": null,\n",
      "   \"metadata\": {},\n",
      "   \"outputs\": [\n",
      "    {\n",
      "     \"name\": \"stdout\",\n",
      "     \"output_type\": \"stream\",\n",
      "     \"text\": [\n",
      "      \"1.23456\\n\",\n",
      "      \"1.23\\n\"\n",
      "     ]\n",
      "    }\n",
      "   ],\n",
      "   \"source\": [\n",
      "    \"a = 1.23456\\n\",\n",
      "    \"print(a)\\n\",\n",
      "    \"# Two decimal place\\n\",\n",
      "    \"print(round(a,2))     \"\n",
      "   ]\n",
      "  },\n",
      "  {\n",
      "   \"cell_type\": \"code\",\n",
      "   \"execution_count\": 41,\n",
      "   \"metadata\": {},\n",
      "   \"outputs\": [\n",
      "    {\n",
      "     \"name\": \"stdout\",\n",
      "     \"output_type\": \"stream\",\n",
      "     \"text\": [\n",
      "      \"Your equation is \\n\"\n",
      "     ]\n",
      "    },\n",
      "    {\n",
      "     \"ename\": \"SyntaxError\",\n",
      "     \"evalue\": \"invalid syntax (<string>, line 0)\",\n",
      "     \"output_type\": \"error\",\n",
      "     \"traceback\": [\n",
      "      \"Traceback \\u001b[1;36m(most recent call last)\\u001b[0m:\\n\",\n",
      "      \"\\u001b[0m  File \\u001b[0;32mc:\\\\Users\\\\YUSUF\\\\AppData\\\\Local\\\\Programs\\\\Python\\\\Python311\\\\Lib\\\\site-packages\\\\IPython\\\\core\\\\interactiveshell.py:3526\\u001b[0m in \\u001b[0;35mrun_code\\u001b[0m\\n    exec(code_obj, self.user_global_ns, self.user_ns)\\u001b[0m\\n\",\n",
      "      \"\\u001b[1;36m  Cell \\u001b[1;32mIn[41], line 5\\u001b[1;36m\\n\\u001b[1;33m    print(eval(expression))\\u001b[1;36m\\n\",\n",
      "      \"\\u001b[1;36m  File \\u001b[1;32m<string>\\u001b[1;36m\\u001b[0m\\n\\u001b[1;33m    \\u001b[0m\\n\\u001b[1;37m    ^\\u001b[0m\\n\\u001b[1;31mSyntaxError\\u001b[0m\\u001b[1;31m:\\u001b[0m invalid syntax\\n\"\n",
      "     ]\n",
      "    }\n",
      "   ],\n",
      "   \"source\": [\n",
      "    \"x = 10\\n\",\n",
      "    \"y = 3\\n\",\n",
      "    \"expression = input(\\\"Enter your equation using x and y:\\\")\\n\",\n",
      "    \"print(\\\"Your equation is\\\", expression)\\n\",\n",
      "    \"print(eval(expression))\"\n",
      "   ]\n",
      "  },\n",
      "  {\n",
      "   \"cell_type\": \"code\",\n",
      "   \"execution_count\": null,\n",
      "   \"metadata\": {},\n",
      "   \"outputs\": [\n",
      "    {\n",
      "     \"data\": {\n",
      "      \"text/plain\": [\n",
      "       \"30\"\n",
      "      ]\n",
      "     },\n",
      "     \"execution_count\": 14,\n",
      "     \"metadata\": {},\n",
      "     \"output_type\": \"execute_result\"\n",
      "    }\n",
      "   ],\n",
      "   \"source\": [\n",
      "    \"eval('x*y')\"\n",
      "   ]\n",
      "  },\n",
      "  {\n",
      "   \"cell_type\": \"code\",\n",
      "   \"execution_count\": null,\n",
      "   \"metadata\": {},\n",
      "   \"outputs\": [\n",
      "    {\n",
      "     \"name\": \"stdout\",\n",
      "     \"output_type\": \"stream\",\n",
      "     \"text\": [\n",
      "      \"\\u001b[1;31mSignature:\\u001b[0m \\u001b[0meval\\u001b[0m\\u001b[1;33m(\\u001b[0m\\u001b[0msource\\u001b[0m\\u001b[1;33m,\\u001b[0m \\u001b[0mglobals\\u001b[0m\\u001b[1;33m=\\u001b[0m\\u001b[1;32mNone\\u001b[0m\\u001b[1;33m,\\u001b[0m \\u001b[0mlocals\\u001b[0m\\u001b[1;33m=\\u001b[0m\\u001b[1;32mNone\\u001b[0m\\u001b[1;33m,\\u001b[0m \\u001b[1;33m/\\u001b[0m\\u001b[1;33m)\\u001b[0m\\u001b[1;33m\\u001b[0m\\u001b[1;33m\\u001b[0m\\u001b[0m\\n\",\n",
      "      \"\\u001b[1;31mDocstring:\\u001b[0m\\n\",\n",
      "      \"Evaluate the given source in the context of globals and locals.\\n\",\n",
      "      \"\\n\",\n",
      "      \"The source may be a string representing a Python expression\\n\",\n",
      "      \"or a code object as returned by compile().\\n\",\n",
      "      \"The globals must be a dictionary and locals can be any mapping,\\n\",\n",
      "      \"defaulting to the current globals and locals.\\n\",\n",
      "      \"If only globals is given, locals defaults to it.\\n\",\n",
      "      \"\\u001b[1;31mType:\\u001b[0m      builtin_function_or_method\"\n",
      "     ]\n",
      "    }\n",
      "   ],\n",
      "   \"source\": [\n",
      "    \"eval?\"\n",
      "   ]\n",
      "  },\n",
      "  {\n",
      "   \"cell_type\": \"code\",\n",
      "   \"execution_count\": null,\n",
      "   \"metadata\": {},\n",
      "   \"outputs\": [\n",
      "    {\n",
      "     \"name\": \"stdout\",\n",
      "     \"output_type\": \"stream\",\n",
      "     \"text\": [\n",
      "      \"\\u001b[1;31mSignature:\\u001b[0m \\u001b[0misinstance\\u001b[0m\\u001b[1;33m(\\u001b[0m\\u001b[0mobj\\u001b[0m\\u001b[1;33m,\\u001b[0m \\u001b[0mclass_or_tuple\\u001b[0m\\u001b[1;33m,\\u001b[0m \\u001b[1;33m/\\u001b[0m\\u001b[1;33m)\\u001b[0m\\u001b[1;33m\\u001b[0m\\u001b[1;33m\\u001b[0m\\u001b[0m\\n\",\n",
      "      \"\\u001b[1;31mDocstring:\\u001b[0m\\n\",\n",
      "      \"Return whether an object is an instance of a class or of a subclass thereof.\\n\",\n",
      "      \"\\n\",\n",
      "      \"A tuple, as in ``isinstance(x, (A, B, ...))``, may be given as the target to\\n\",\n",
      "      \"check against. This is equivalent to ``isinstance(x, A) or isinstance(x, B)\\n\",\n",
      "      \"or ...`` etc.\\n\",\n",
      "      \"\\u001b[1;31mType:\\u001b[0m      builtin_function_or_method\"\n",
      "     ]\n",
      "    }\n",
      "   ],\n",
      "   \"source\": [\n",
      "    \"isinstance?\\n\"\n",
      "   ]\n",
      "  },\n",
      "  {\n",
      "   \"cell_type\": \"code\",\n",
      "   \"execution_count\": null,\n",
      "   \"metadata\": {},\n",
      "   \"outputs\": [\n",
      "    {\n",
      "     \"name\": \"stdout\",\n",
      "     \"output_type\": \"stream\",\n",
      "     \"text\": [\n",
      "      \"False False True True True\\n\"\n",
      "     ]\n",
      "    }\n",
      "   ],\n",
      "   \"source\": [\n",
      "    \"print(bool(0), bool(''), bool('asd'), bool(-1), bool(120))\"\n",
      "   ]\n",
      "  },\n",
      "  {\n",
      "   \"cell_type\": \"code\",\n",
      "   \"execution_count\": null,\n",
      "   \"metadata\": {},\n",
      "   \"outputs\": [\n",
      "    {\n",
      "     \"name\": \"stdout\",\n",
      "     \"output_type\": \"stream\",\n",
      "     \"text\": [\n",
      "      \"True\\n\",\n",
      "      \"False\\n\",\n",
      "      \"False\\n\",\n",
      "      \"False\\n\",\n",
      "      \"True\\n\",\n",
      "      \"True\\n\"\n",
      "     ]\n",
      "    }\n",
      "   ],\n",
      "   \"source\": [\n",
      "    \"x = [1,2,3,4,5,6]\\n\",\n",
      "    \"y = [1,2,3,4,5,0]\\n\",\n",
      "    \"z = [0,0,0,0,0,0]\\n\",\n",
      "    \"a = [0,0,0,0,0,1]\\n\",\n",
      "    \"print(all(x))\\n\",\n",
      "    \"print(all(y))\\n\",\n",
      "    \"print(all(z))\\n\",\n",
      "    \"print(any(z))\\n\",\n",
      "    \"print(any(a))\\n\",\n",
      "    \"print(any(x))\"\n",
      "   ]\n",
      "  },\n",
      "  {\n",
      "   \"cell_type\": \"code\",\n",
      "   \"execution_count\": null,\n",
      "   \"metadata\": {},\n",
      "   \"outputs\": [\n",
      "    {\n",
      "     \"name\": \"stdout\",\n",
      "     \"output_type\": \"stream\",\n",
      "     \"text\": [\n",
      "      \"\\u001b[1;31mSignature:\\u001b[0m\\n\",\n",
      "      \"\\u001b[0mopen\\u001b[0m\\u001b[1;33m(\\u001b[0m\\u001b[1;33m\\n\",\n",
      "      \"\\u001b[0m    \\u001b[0mfile\\u001b[0m\\u001b[1;33m,\\u001b[0m\\u001b[1;33m\\n\",\n",
      "      \"\\u001b[0m    \\u001b[0mmode\\u001b[0m\\u001b[1;33m=\\u001b[0m\\u001b[1;34m'r'\\u001b[0m\\u001b[1;33m,\\u001b[0m\\u001b[1;33m\\n\",\n",
      "      \"\\u001b[0m    \\u001b[0mbuffering\\u001b[0m\\u001b[1;33m=\\u001b[0m\\u001b[1;33m-\\u001b[0m\\u001b[1;36m1\\u001b[0m\\u001b[1;33m,\\u001b[0m\\u001b[1;33m\\n\",\n",
      "      \"\\u001b[0m    \\u001b[0mencoding\\u001b[0m\\u001b[1;33m=\\u001b[0m\\u001b[1;32mNone\\u001b[0m\\u001b[1;33m,\\u001b[0m\\u001b[1;33m\\n\",\n",
      "      \"\\u001b[0m    \\u001b[0merrors\\u001b[0m\\u001b[1;33m=\\u001b[0m\\u001b[1;32mNone\\u001b[0m\\u001b[1;33m,\\u001b[0m\\u001b[1;33m\\n\",\n",
      "      \"\\u001b[0m    \\u001b[0mnewline\\u001b[0m\\u001b[1;33m=\\u001b[0m\\u001b[1;32mNone\\u001b[0m\\u001b[1;33m,\\u001b[0m\\u001b[1;33m\\n\",\n",
      "      \"\\u001b[0m    \\u001b[0mclosefd\\u001b[0m\\u001b[1;33m=\\u001b[0m\\u001b[1;32mTrue\\u001b[0m\\u001b[1;33m,\\u001b[0m\\u001b[1;33m\\n\",\n",
      "      \"\\u001b[0m    \\u001b[0mopener\\u001b[0m\\u001b[1;33m=\\u001b[0m\\u001b[1;32mNone\\u001b[0m\\u001b[1;33m,\\u001b[0m\\u001b[1;33m\\n\",\n",
      "      \"\\u001b[0m\\u001b[1;33m)\\u001b[0m\\u001b[1;33m\\u001b[0m\\u001b[1;33m\\u001b[0m\\u001b[0m\\n\",\n",
      "      \"\\u001b[1;31mDocstring:\\u001b[0m\\n\",\n",
      "      \"Open file and return a stream.  Raise OSError upon failure.\\n\",\n",
      "      \"\\n\",\n",
      "      \"file is either a text or byte string giving the name (and the path\\n\",\n",
      "      \"if the file isn't in the current working directory) of the file to\\n\",\n",
      "      \"be opened or an integer file descriptor of the file to be\\n\",\n",
      "      \"wrapped. (If a file descriptor is given, it is closed when the\\n\",\n",
      "      \"returned I/O object is closed, unless closefd is set to False.)\\n\",\n",
      "      \"\\n\",\n",
      "      \"mode is an optional string that specifies the mode in which the file\\n\",\n",
      "      \"is opened. It defaults to 'r' which means open for reading in text\\n\",\n",
      "      \"mode.  Other common values are 'w' for writing (truncating the file if\\n\",\n",
      "      \"it already exists), 'x' for creating and writing to a new file, and\\n\",\n",
      "      \"'a' for appending (which on some Unix systems, means that all writes\\n\",\n",
      "      \"append to the end of the file regardless of the current seek position).\\n\",\n",
      "      \"In text mode, if encoding is not specified the encoding used is platform\\n\",\n",
      "      \"dependent: locale.getencoding() is called to get the current locale encoding.\\n\",\n",
      "      \"(For reading and writing raw bytes use binary mode and leave encoding\\n\",\n",
      "      \"unspecified.) The available modes are:\\n\",\n",
      "      \"\\n\",\n",
      "      \"========= ===============================================================\\n\",\n",
      "      \"Character Meaning\\n\",\n",
      "      \"--------- ---------------------------------------------------------------\\n\",\n",
      "      \"'r'       open for reading (default)\\n\",\n",
      "      \"'w'       open for writing, truncating the file first\\n\",\n",
      "      \"'x'       create a new file and open it for writing\\n\",\n",
      "      \"'a'       open for writing, appending to the end of the file if it exists\\n\",\n",
      "      \"'b'       binary mode\\n\",\n",
      "      \"'t'       text mode (default)\\n\",\n",
      "      \"'+'       open a disk file for updating (reading and writing)\\n\",\n",
      "      \"========= ===============================================================\\n\",\n",
      "      \"\\n\",\n",
      "      \"The default mode is 'rt' (open for reading text). For binary random\\n\",\n",
      "      \"access, the mode 'w+b' opens and truncates the file to 0 bytes, while\\n\",\n",
      "      \"'r+b' opens the file without truncation. The 'x' mode implies 'w' and\\n\",\n",
      "      \"raises an `FileExistsError` if the file already exists.\\n\",\n",
      "      \"\\n\",\n",
      "      \"Python distinguishes between files opened in binary and text modes,\\n\",\n",
      "      \"even when the underlying operating system doesn't. Files opened in\\n\",\n",
      "      \"binary mode (appending 'b' to the mode argument) return contents as\\n\",\n",
      "      \"bytes objects without any decoding. In text mode (the default, or when\\n\",\n",
      "      \"'t' is appended to the mode argument), the contents of the file are\\n\",\n",
      "      \"returned as strings, the bytes having been first decoded using a\\n\",\n",
      "      \"platform-dependent encoding or using the specified encoding if given.\\n\",\n",
      "      \"\\n\",\n",
      "      \"buffering is an optional integer used to set the buffering policy.\\n\",\n",
      "      \"Pass 0 to switch buffering off (only allowed in binary mode), 1 to select\\n\",\n",
      "      \"line buffering (only usable in text mode), and an integer > 1 to indicate\\n\",\n",
      "      \"the size of a fixed-size chunk buffer.  When no buffering argument is\\n\",\n",
      "      \"given, the default buffering policy works as follows:\\n\",\n",
      "      \"\\n\",\n",
      "      \"* Binary files are buffered in fixed-size chunks; the size of the buffer\\n\",\n",
      "      \"  is chosen using a heuristic trying to determine the underlying device's\\n\",\n",
      "      \"  \\\"block size\\\" and falling back on `io.DEFAULT_BUFFER_SIZE`.\\n\",\n",
      "      \"  On many systems, the buffer will typically be 4096 or 8192 bytes long.\\n\",\n",
      "      \"\\n\",\n",
      "      \"* \\\"Interactive\\\" text files (files for which isatty() returns True)\\n\",\n",
      "      \"  use line buffering.  Other text files use the policy described above\\n\",\n",
      "      \"  for binary files.\\n\",\n",
      "      \"\\n\",\n",
      "      \"encoding is the name of the encoding used to decode or encode the\\n\",\n",
      "      \"file. This should only be used in text mode. The default encoding is\\n\",\n",
      "      \"platform dependent, but any encoding supported by Python can be\\n\",\n",
      "      \"passed.  See the codecs module for the list of supported encodings.\\n\",\n",
      "      \"\\n\",\n",
      "      \"errors is an optional string that specifies how encoding errors are to\\n\",\n",
      "      \"be handled---this argument should not be used in binary mode. Pass\\n\",\n",
      "      \"'strict' to raise a ValueError exception if there is an encoding error\\n\",\n",
      "      \"(the default of None has the same effect), or pass 'ignore' to ignore\\n\",\n",
      "      \"errors. (Note that ignoring encoding errors can lead to data loss.)\\n\",\n",
      "      \"See the documentation for codecs.register or run 'help(codecs.Codec)'\\n\",\n",
      "      \"for a list of the permitted encoding error strings.\\n\",\n",
      "      \"\\n\",\n",
      "      \"newline controls how universal newlines works (it only applies to text\\n\",\n",
      "      \"mode). It can be None, '', '\\\\n', '\\\\r', and '\\\\r\\\\n'.  It works as\\n\",\n",
      "      \"follows:\\n\",\n",
      "      \"\\n\",\n",
      "      \"* On input, if newline is None, universal newlines mode is\\n\",\n",
      "      \"  enabled. Lines in the input can end in '\\\\n', '\\\\r', or '\\\\r\\\\n', and\\n\",\n",
      "      \"  these are translated into '\\\\n' before being returned to the\\n\",\n",
      "      \"  caller. If it is '', universal newline mode is enabled, but line\\n\",\n",
      "      \"  endings are returned to the caller untranslated. If it has any of\\n\",\n",
      "      \"  the other legal values, input lines are only terminated by the given\\n\",\n",
      "      \"  string, and the line ending is returned to the caller untranslated.\\n\",\n",
      "      \"\\n\",\n",
      "      \"* On output, if newline is None, any '\\\\n' characters written are\\n\",\n",
      "      \"  translated to the system default line separator, os.linesep. If\\n\",\n",
      "      \"  newline is '' or '\\\\n', no translation takes place. If newline is any\\n\",\n",
      "      \"  of the other legal values, any '\\\\n' characters written are translated\\n\",\n",
      "      \"  to the given string.\\n\",\n",
      "      \"\\n\",\n",
      "      \"If closefd is False, the underlying file descriptor will be kept open\\n\",\n",
      "      \"when the file is closed. This does not work when a file name is given\\n\",\n",
      "      \"and must be True in that case.\\n\",\n",
      "      \"\\n\",\n",
      "      \"A custom opener can be used by passing a callable as *opener*. The\\n\",\n",
      "      \"underlying file descriptor for the file object is then obtained by\\n\",\n",
      "      \"calling *opener* with (*file*, *flags*). *opener* must return an open\\n\",\n",
      "      \"file descriptor (passing os.open as *opener* results in functionality\\n\",\n",
      "      \"similar to passing None).\\n\",\n",
      "      \"\\n\",\n",
      "      \"open() returns a file object whose type depends on the mode, and\\n\",\n",
      "      \"through which the standard file operations such as reading and writing\\n\",\n",
      "      \"are performed. When open() is used to open a file in a text mode ('w',\\n\",\n",
      "      \"'r', 'wt', 'rt', etc.), it returns a TextIOWrapper. When used to open\\n\",\n",
      "      \"a file in a binary mode, the returned class varies: in read binary\\n\",\n",
      "      \"mode, it returns a BufferedReader; in write binary and append binary\\n\",\n",
      "      \"modes, it returns a BufferedWriter, and in read/write mode, it returns\\n\",\n",
      "      \"a BufferedRandom.\\n\",\n",
      "      \"\\n\",\n",
      "      \"It is also possible to use a string or bytearray as a file for both\\n\",\n",
      "      \"reading and writing. For strings StringIO can be used like a file\\n\",\n",
      "      \"opened in a text mode, and for bytes a BytesIO can be used like a file\\n\",\n",
      "      \"opened in a binary mode.\\n\",\n",
      "      \"\\u001b[1;31mType:\\u001b[0m      function\"\n",
      "     ]\n",
      "    }\n",
      "   ],\n",
      "   \"source\": [\n",
      "    \"open?\\n\"\n",
      "   ]\n",
      "  },\n",
      "  {\n",
      "   \"cell_type\": \"markdown\",\n",
      "   \"metadata\": {},\n",
      "   \"source\": [\n",
      "    \"file handling with open()\\n\",\n",
      "    \"- read\\n\",\n",
      "    \"- write\\n\",\n",
      "    \"- open\\n\"\n",
      "   ]\n",
      "  },\n",
      "  {\n",
      "   \"cell_type\": \"code\",\n",
      "   \"execution_count\": 44,\n",
      "   \"metadata\": {},\n",
      "   \"outputs\": [\n",
      "    {\n",
      "     \"name\": \"stdout\",\n",
      "     \"output_type\": \"stream\",\n",
      "     \"text\": [\n",
      "      \"<_io.TextIOWrapper name='../dummy.txt' mode='r' encoding='cp1252'>\\n\"\n",
      "     ]\n",
      "    }\n",
      "   ],\n",
      "   \"source\": [\n",
      "    \"# .. mean outside the folder\\n\",\n",
      "    \"file = open('../dummy.txt')\\n\",\n",
      "    \"print(file)\\n\"\n",
      "   ]\n",
      "  },\n",
      "  {\n",
      "   \"cell_type\": \"code\",\n",
      "   \"execution_count\": 45,\n",
      "   \"metadata\": {},\n",
      "   \"outputs\": [\n",
      "    {\n",
      "     \"data\": {\n",
      "      \"text/plain\": [\n",
      "       \"\\\"I'm Iron Man\\\"\"\n",
      "      ]\n",
      "     },\n",
      "     \"execution_count\": 45,\n",
      "     \"metadata\": {},\n",
      "     \"output_type\": \"execute_result\"\n",
      "    }\n",
      "   ],\n",
      "   \"source\": [\n",
      "    \"file.read()\"\n",
      "   ]\n",
      "  },\n",
      "  {\n",
      "   \"cell_type\": \"code\",\n",
      "   \"execution_count\": 47,\n",
      "   \"metadata\": {},\n",
      "   \"outputs\": [\n",
      "    {\n",
      "     \"name\": \"stdout\",\n",
      "     \"output_type\": \"stream\",\n",
      "     \"text\": [\n",
      "      \"I'm Iron Man\\n\"\n",
      "     ]\n",
      "    }\n",
      "   ],\n",
      "   \"source\": [\n",
      "    \"with open('../dummy.txt') as file:\\n\",\n",
      "    \"    print(file.read())\"\n",
      "   ]\n",
      "  },\n",
      "  {\n",
      "   \"cell_type\": \"code\",\n",
      "   \"execution_count\": null,\n",
      "   \"metadata\": {},\n",
      "   \"outputs\": [],\n",
      "   \"source\": [\n",
      "    \"with open('builtIn.ipynb') as file:\\n\",\n",
      "    \"    print(file.read())\"\n",
      "   ]\n",
      "  }\n",
      " ],\n",
      " \"metadata\": {\n",
      "  \"kernelspec\": {\n",
      "   \"display_name\": \"Python 3\",\n",
      "   \"language\": \"python\",\n",
      "   \"name\": \"python3\"\n",
      "  },\n",
      "  \"language_info\": {\n",
      "   \"codemirror_mode\": {\n",
      "    \"name\": \"ipython\",\n",
      "    \"version\": 3\n",
      "   },\n",
      "   \"file_extension\": \".py\",\n",
      "   \"mimetype\": \"text/x-python\",\n",
      "   \"name\": \"python\",\n",
      "   \"nbconvert_exporter\": \"python\",\n",
      "   \"pygments_lexer\": \"ipython3\",\n",
      "   \"version\": \"3.11.5\"\n",
      "  }\n",
      " },\n",
      " \"nbformat\": 4,\n",
      " \"nbformat_minor\": 2\n",
      "}\n",
      "\n"
     ]
    }
   ],
   "source": [
    "with open('builtIn.ipynb') as file:\n",
    "    print(file.read())"
   ]
  },
  {
   "cell_type": "code",
   "execution_count": 55,
   "metadata": {},
   "outputs": [
    {
     "name": "stdout",
     "output_type": "stream",
     "text": [
      "['I', 'am', 'Iron', 'Man']\n"
     ]
    }
   ],
   "source": [
    "with open('../dummy.txt') as file:\n",
    "    content = file.read()\n",
    "print(content.split())"
   ]
  },
  {
   "cell_type": "code",
   "execution_count": 58,
   "metadata": {},
   "outputs": [
    {
     "name": "stdout",
     "output_type": "stream",
     "text": [
      "Hi\n",
      "How are you\n"
     ]
    }
   ],
   "source": [
    "path = 'C:\\\\Users\\\\YUSUF\\\\Desktop\\\\Kuch bhi.txt'\n",
    "with open(path) as f:\n",
    "    print(f.read())"
   ]
  },
  {
   "cell_type": "code",
   "execution_count": 61,
   "metadata": {},
   "outputs": [
    {
     "name": "stdout",
     "output_type": "stream",
     "text": [
      "Hi\n",
      "How are you\n"
     ]
    }
   ],
   "source": [
    "path = r'C:\\Users\\YUSUF\\Desktop\\Kuch bhi.txt'\n",
    "with open(path) as f:\n",
    "    print(f.read())"
   ]
  },
  {
   "cell_type": "code",
   "execution_count": 60,
   "metadata": {},
   "outputs": [
    {
     "name": "stdout",
     "output_type": "stream",
     "text": [
      "Hi\n",
      "How are you\n"
     ]
    }
   ],
   "source": [
    "path = 'C:/Users/YUSUF/Desktop/Kuch bhi.txt'\n",
    "with open(path) as f:\n",
    "    print(f.read())"
   ]
  },
  {
   "cell_type": "code",
   "execution_count": 63,
   "metadata": {},
   "outputs": [
    {
     "name": "stdout",
     "output_type": "stream",
     "text": [
      "632\n",
      "1\n",
      "702\n"
     ]
    }
   ],
   "source": [
    "x = [12,35,1,632,5,6,6,4,1]\n",
    "print(max(x))\n",
    "print(min(x))\n",
    "print(sum(x))"
   ]
  },
  {
   "cell_type": "code",
   "execution_count": 64,
   "metadata": {},
   "outputs": [],
   "source": [
    "meri_kahani = '''Once upon a time\n",
    "there was a person,\n",
    "To be continued...\n",
    "'''\n",
    "with open('kahani.txt','w') as f:\n",
    "    f.write(meri_kahani)"
   ]
  },
  {
   "cell_type": "code",
   "execution_count": 70,
   "metadata": {},
   "outputs": [
    {
     "name": "stdout",
     "output_type": "stream",
     "text": [
      "file saved ✔\n"
     ]
    }
   ],
   "source": [
    "dusri_kahani = '''Ek samay ki baat hai,\n",
    "bht door desh me, Ek pahad tha, Jaha pr pathar tha.\n",
    "The End.\n",
    "'''\n",
    "addr = \"C:/Users/YUSUF/Desktop/dusri_kahani.txt\"\n",
    "with open(addr,'w') as f:\n",
    "    f.write(dusri_kahani)\n",
    "    print(\"file saved ✔\")"
   ]
  },
  {
   "cell_type": "code",
   "execution_count": 71,
   "metadata": {},
   "outputs": [
    {
     "name": "stdout",
     "output_type": "stream",
     "text": [
      "file saved ✔\n"
     ]
    }
   ],
   "source": [
    "user_ka_data = input(\"Enter your story:\")\n",
    "with open(addr,'a') as f:\n",
    "    f.write(\"\\n\" + user_ka_data)\n",
    "    print(\"file saved ✔\")"
   ]
  },
  {
   "cell_type": "code",
   "execution_count": 72,
   "metadata": {},
   "outputs": [
    {
     "name": "stdout",
     "output_type": "stream",
     "text": [
      "Ek samay ki baat hai,\n",
      "bht door desh me, Ek pahad tha, Jaha pr pathar tha.\n",
      "The End.\n",
      "\n",
      "Wassup\n"
     ]
    }
   ],
   "source": [
    "with open(addr) as f:\n",
    "    print(f.read())"
   ]
  },
  {
   "cell_type": "code",
   "execution_count": null,
   "metadata": {},
   "outputs": [],
   "source": []
  }
 ],
 "metadata": {
  "kernelspec": {
   "display_name": "Python 3",
   "language": "python",
   "name": "python3"
  },
  "language_info": {
   "codemirror_mode": {
    "name": "ipython",
    "version": 3
   },
   "file_extension": ".py",
   "mimetype": "text/x-python",
   "name": "python",
   "nbconvert_exporter": "python",
   "pygments_lexer": "ipython3",
   "version": "3.11.5"
  }
 },
 "nbformat": 4,
 "nbformat_minor": 2
}
