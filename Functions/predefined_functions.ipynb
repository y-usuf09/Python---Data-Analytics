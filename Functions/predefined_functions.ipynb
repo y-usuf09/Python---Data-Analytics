{
 "cells": [
  {
   "cell_type": "markdown",
   "metadata": {},
   "source": [
    "## predefined \n",
    "   - builtins\n",
    "   - func and modules(libraries)\n",
    "   - func from 3rd party module(open source libraries)"
   ]
  },
  {
   "cell_type": "markdown",
   "metadata": {},
   "source": [
    "## python modules\n",
    "- math\n",
    "- os\n",
    "- random\n",
    "- datetime"
   ]
  },
  {
   "cell_type": "markdown",
   "metadata": {},
   "source": [
    "importing libraries\n",
    "- loading the module directly\n",
    "`import module`\n",
    "- loading all items from the module\n",
    "`from module import *`\n",
    "- loading specific func from module\n",
    "`from module import func`\n",
    "- loading specific func from module with alias\n",
    "`from module import func as alias`\n",
    "- loading module as alias\n",
    "`import module as alias`"
   ]
  },
  {
   "cell_type": "code",
   "execution_count": 2,
   "metadata": {},
   "outputs": [
    {
     "name": "stdout",
     "output_type": "stream",
     "text": [
      "5.0\n",
      "3.0\n"
     ]
    }
   ],
   "source": [
    "import math  ## ye use kre . se aage ke bta dega\n",
    "print(math.hypot(3,4)) ## hypotenus\n",
    "print(math.sqrt(9))\n",
    "\n"
   ]
  },
  {
   "cell_type": "code",
   "execution_count": 4,
   "metadata": {},
   "outputs": [
    {
     "name": "stdout",
     "output_type": "stream",
     "text": [
      "5.0\n",
      "10.5\n",
      "0.8939966636005579\n"
     ]
    }
   ],
   "source": [
    "from math import* ## bar bar math nhi likhna padega\n",
    "print(hypot(3,4))\n",
    "print(fabs(-10.5))\n",
    "print(sin(90))\n"
   ]
  },
  {
   "cell_type": "code",
   "execution_count": 6,
   "metadata": {},
   "outputs": [],
   "source": [
    "from requests import get ## get means magna ## request library h ## get functiin h"
   ]
  },
  {
   "cell_type": "code",
   "execution_count": 9,
   "metadata": {},
   "outputs": [
    {
     "name": "stdout",
     "output_type": "stream",
     "text": [
      "<!DOCTYPE html>\n",
      "<html lang=en>\n",
      "  <meta charset=utf-8>\n",
      "  <meta name=viewport content=\"initial-scale=1, minimum-scale=1, width=device-width\">\n",
      "  <title>Error 404 (Not Found)!!1</title>\n",
      "  <style>\n",
      "    *{margin:0;padding:0}html,code{font:15px/22px arial,sans-serif}html{background:#fff;color:#222;padding:15px}body{margin:7% auto 0;max-width:390px;min-height:180px;padding:30px 0 15px}* > body{background:url(//www.google.com/images/errors/robot.png) 100% 5px no-repeat;padding-right:205px}p{margin:11px 0 22px;overflow:hidden}ins{color:#777;text-decoration:none}a img{border:0}@media screen and (max-width:772px){body{background:none;margin-top:0;max-width:none;padding-right:0}}#logo{background:url(//www.google.com/images/branding/googlelogo/1x/googlelogo_color_150x54dp.png) no-repeat;margin-left:-5px}@media only screen and (min-resolution:192dpi){#logo{background:url(//www.google.com/images/branding/googlelogo/2x/googlelogo_color_150x54dp.png) no-repeat 0% 0%/100% 100%;-moz-border-image:url(//www.google.com/images/branding/googlelogo/2x/googlelogo_color_150x54dp.png) 0}}@media only screen and (-webkit-min-device-pixel-ratio:2){#logo{background:url(//www.google.com/images/branding/googlelogo/2x/googlelogo_color_150x54dp.png) no-repeat;-webkit-background-size:100% 100%}}#logo{display:inline-block;height:54px;width:150px}\n",
      "  </style>\n",
      "  <a href=//www.google.com/><span id=logo aria-label=Google></span></a>\n",
      "  <p><b>404.</b> <ins>That’s an error.</ins>\n",
      "  <p>The requested URL <code>/seach</code> was not found on this server.  <ins>That’s all we know.</ins>\n",
      "\n"
     ]
    }
   ],
   "source": [
    "print(get(\"https://www.google.com/seach?q=python\").text)\n",
    "# with open('kahani.txt','w') as f:"
   ]
  },
  {
   "cell_type": "code",
   "execution_count": 12,
   "metadata": {},
   "outputs": [
    {
     "data": {
      "text/plain": [
       "1"
      ]
     },
     "execution_count": 12,
     "metadata": {},
     "output_type": "execute_result"
    }
   ],
   "source": [
    "from random import randint as ri ## chota naam diya h randint ka 2 ya 3 letter hone chahiye\n",
    "ri(1,100) ## random values ko le sakte h 1 se 100 ke bick k 1 or 100 bhi aayega\n",
    "\n"
   ]
  },
  {
   "cell_type": "code",
   "execution_count": 13,
   "metadata": {},
   "outputs": [],
   "source": [
    "from os.path import getsize as size ## os ek bda module h uske andr path module h"
   ]
  },
  {
   "cell_type": "code",
   "execution_count": 17,
   "metadata": {},
   "outputs": [
    {
     "name": "stdout",
     "output_type": "stream",
     "text": [
      "4917\n",
      "4.8017578125\n",
      "0.004689216613769531\n"
     ]
    }
   ],
   "source": [
    "# size('builtin.ipynb')   ## bytes me answer dega\n",
    "sizeinbytes=size(r\"C:\\Users\\hp\\Downloads\\WhatsApp Image 2022-10-07 at 10.00.21 PM.jpeg\")\n",
    "sizeinkb=sizeinbytes/1024\n",
    "sizeinmb=sizeinbytes/(1024*1024)\n",
    "print(sizeinbytes)\n",
    "print(sizeinkb)\n",
    "print(sizeinmb)"
   ]
  },
  {
   "cell_type": "code",
   "execution_count": 34,
   "metadata": {},
   "outputs": [],
   "source": [
    "import math \n",
    "import random\n",
    "import os\n",
    "import datetime as dt\n"
   ]
  },
  {
   "cell_type": "code",
   "execution_count": 27,
   "metadata": {},
   "outputs": [
    {
     "name": "stdout",
     "output_type": "stream",
     "text": [
      "7.38905609893065\n",
      "2.302585092994046\n",
      "1.0\n",
      "120\n",
      "1\n"
     ]
    }
   ],
   "source": [
    "print(math.exp(2))\n",
    "print(math.log(10))\n",
    "print(math.log(10,10))\n",
    "print(math.factorial(5))\n",
    "print(math.gcd(10,5,32))\n"
   ]
  },
  {
   "cell_type": "code",
   "execution_count": 28,
   "metadata": {},
   "outputs": [
    {
     "name": "stdout",
     "output_type": "stream",
     "text": [
      "\u001b[1;31mSignature:\u001b[0m \u001b[0mmath\u001b[0m\u001b[1;33m.\u001b[0m\u001b[0msinh\u001b[0m\u001b[1;33m(\u001b[0m\u001b[0mx\u001b[0m\u001b[1;33m,\u001b[0m \u001b[1;33m/\u001b[0m\u001b[1;33m)\u001b[0m\u001b[1;33m\u001b[0m\u001b[1;33m\u001b[0m\u001b[0m\n",
      "\u001b[1;31mDocstring:\u001b[0m Return the hyperbolic sine of x.\n",
      "\u001b[1;31mType:\u001b[0m      builtin_function_or_method"
     ]
    }
   ],
   "source": [
    "math.sinh?"
   ]
  },
  {
   "cell_type": "code",
   "execution_count": 37,
   "metadata": {},
   "outputs": [
    {
     "name": "stdout",
     "output_type": "stream",
     "text": [
      "0.6394267984578837\n",
      "1\n",
      "[7, 9, 1, 8, 2, 5, 8]\n",
      "5\n",
      "[5, 8, 2]\n",
      "[7, 8, 5]\n",
      "2.9677417732324303\n"
     ]
    }
   ],
   "source": [
    "random.seed(42) ## ek hi value dega same random ke andr hi ayega\n",
    "print(random.random())\n",
    "print(random.randint(1,10))\n",
    "nums=[1,2,5,7,8,8,9]\n",
    "random.shuffle(nums)\n",
    "print(nums)\n",
    "print(random.choice(nums)) ## game me use hota hai\n",
    "print(random.choices(nums,k=3))\n",
    "print(random.sample(nums,k=3))\n",
    "print(random.uniform(1,10))\n",
    "random.seed(5)\n"
   ]
  },
  {
   "cell_type": "code",
   "execution_count": 39,
   "metadata": {},
   "outputs": [
    {
     "data": {
      "text/plain": [
       "datetime.datetime(2023, 10, 27, 19, 49, 14, 861831)"
      ]
     },
     "execution_count": 39,
     "metadata": {},
     "output_type": "execute_result"
    }
   ],
   "source": [
    "dt.datetime.now()  ## current time dega , dt ke andr datetime h\n"
   ]
  },
  {
   "cell_type": "code",
   "execution_count": 40,
   "metadata": {},
   "outputs": [
    {
     "data": {
      "text/plain": [
       "1698416428.409743"
      ]
     },
     "execution_count": 40,
     "metadata": {},
     "output_type": "execute_result"
    }
   ],
   "source": [
    "dt.datetime.timestamp(dt.datetime.now())"
   ]
  },
  {
   "cell_type": "code",
   "execution_count": 41,
   "metadata": {},
   "outputs": [
    {
     "data": {
      "text/plain": [
       "datetime.date(2023, 10, 27)"
      ]
     },
     "execution_count": 41,
     "metadata": {},
     "output_type": "execute_result"
    }
   ],
   "source": [
    "dt.datetime.now().date()"
   ]
  },
  {
   "cell_type": "code",
   "execution_count": 43,
   "metadata": {},
   "outputs": [
    {
     "data": {
      "text/plain": [
       "datetime.time(19, 51, 25, 128376)"
      ]
     },
     "execution_count": 43,
     "metadata": {},
     "output_type": "execute_result"
    }
   ],
   "source": [
    "dt.datetime.now().time()"
   ]
  },
  {
   "cell_type": "code",
   "execution_count": 46,
   "metadata": {},
   "outputs": [
    {
     "data": {
      "text/plain": [
       "'⌚19 : 53'"
      ]
     },
     "execution_count": 46,
     "metadata": {},
     "output_type": "execute_result"
    }
   ],
   "source": [
    "cur=dt.datetime.now()\n",
    "\"⌚\"+cur.strftime(\"%H : %M\")  ## ghnta bnayega"
   ]
  },
  {
   "cell_type": "code",
   "execution_count": 47,
   "metadata": {},
   "outputs": [
    {
     "name": "stdout",
     "output_type": "stream",
     "text": [
      "Time 19 : 55\n",
      "Date 2023,Oct 27\n"
     ]
    }
   ],
   "source": [
    "cur=dt.datetime.now()\n",
    "print(\"Time\",cur.strftime(\"%H : %M\"))\n",
    "print(\"Date\",cur.strftime(\"%Y,%h %d\")) ## iso date time format dekh sakte hai orr bhi"
   ]
  },
  {
   "cell_type": "code",
   "execution_count": null,
   "metadata": {},
   "outputs": [],
   "source": []
  }
 ],
 "metadata": {
  "kernelspec": {
   "display_name": "base",
   "language": "python",
   "name": "python3"
  },
  "language_info": {
   "codemirror_mode": {
    "name": "ipython",
    "version": 3
   },
   "file_extension": ".py",
   "mimetype": "text/x-python",
   "name": "python",
   "nbconvert_exporter": "python",
   "pygments_lexer": "ipython3",
   "version": "3.11.4"
  }
 },
 "nbformat": 4,
 "nbformat_minor": 2
}
