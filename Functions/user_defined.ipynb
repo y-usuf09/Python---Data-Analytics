{
 "cells": [
  {
   "cell_type": "markdown",
   "metadata": {},
   "source": [
    "# User defined functions\n",
    "-> on the basis of signature func can be divided into\n",
    "- no argument no return type       (game proggraming mostly)\n",
    "- no argument with return type\n",
    "- with argument no return type\n",
    "- with argument with return type😍\n",
    "- Lambda func (anonymous func)"
   ]
  },
  {
   "cell_type": "markdown",
   "metadata": {},
   "source": [
    "*Conventions for making a functions*\n",
    "- func name should be in lower case\n",
    "- func should never take input from user\n",
    "- don't use print func to display result from func,prefer returning value\n",
    "- func must be defined before calling\n",
    "- func be called after they have been defined to actually execute them"
   ]
  },
  {
   "cell_type": "markdown",
   "metadata": {},
   "source": [
    "```pythin\n",
    "def func_name([params])\n",
    "```\n",
    "docaring\n",
    "```\n",
    "# body of func\n",
    "[return statement]"
   ]
  },
  {
   "cell_type": "code",
   "execution_count": 2,
   "metadata": {},
   "outputs": [],
   "source": [
    "def welcome():\n",
    "    '''a func that welcomes you'''\n",
    "    print(\"Welcome to python functions!\")"
   ]
  },
  {
   "cell_type": "code",
   "execution_count": 3,
   "metadata": {},
   "outputs": [
    {
     "name": "stdout",
     "output_type": "stream",
     "text": [
      "Welcome to python functions!\n"
     ]
    }
   ],
   "source": [
    "welcome()"
   ]
  },
  {
   "cell_type": "code",
   "execution_count": 4,
   "metadata": {},
   "outputs": [
    {
     "name": "stdout",
     "output_type": "stream",
     "text": [
      "Welcome to python functions!\n",
      "Welcome to python functions!\n",
      "Welcome to python functions!\n"
     ]
    }
   ],
   "source": [
    "for i in range(3):\n",
    "    welcome()"
   ]
  },
  {
   "cell_type": "code",
   "execution_count": 5,
   "metadata": {},
   "outputs": [],
   "source": [
    "# func returning value\n",
    "def get_random_letter():\n",
    "    import random\n",
    "    code=random.randint(0,256)\n",
    "    return chr(code)"
   ]
  },
  {
   "cell_type": "code",
   "execution_count": 9,
   "metadata": {},
   "outputs": [
    {
     "name": "stdout",
     "output_type": "stream",
     "text": [
      "6\n",
      "Z\n",
      "Ï\n",
      "G\n"
     ]
    }
   ],
   "source": [
    "print(get_random_letter())\n",
    "print(get_random_letter())\n",
    "print(get_random_letter())\n",
    "print(get_random_letter())"
   ]
  },
  {
   "cell_type": "code",
   "execution_count": 12,
   "metadata": {},
   "outputs": [
    {
     "name": "stdout",
     "output_type": "stream",
     "text": [
      "Ë  ¸ \u0015 Ê D Ü S Æ î "
     ]
    }
   ],
   "source": [
    "for i in range(10):\n",
    "    print(get_random_letter(),end=\" \")"
   ]
  },
  {
   "cell_type": "code",
   "execution_count": 13,
   "metadata": {},
   "outputs": [],
   "source": [
    "# func returning value\n",
    "def get_random_chinese_letter():\n",
    "    import random\n",
    "    code=random.randint(0x4e00,0x9ffff) # hexadecimals\n",
    "    return chr(code)"
   ]
  },
  {
   "cell_type": "code",
   "execution_count": 15,
   "metadata": {},
   "outputs": [
    {
     "name": "stdout",
     "output_type": "stream",
     "text": [
      "񝾕 򙰘 𥁋 񕚖 񍹺 񠏍 񺤿 񗺎 𣟱 𴦁 "
     ]
    }
   ],
   "source": [
    "for i in range(10):\n",
    "    print(get_random_chinese_letter(), end=\" \")"
   ]
  },
  {
   "cell_type": "code",
   "execution_count": 17,
   "metadata": {},
   "outputs": [
    {
     "data": {
      "text/plain": [
       "'\\U00079f2f Ye string h '"
      ]
     },
     "execution_count": 17,
     "metadata": {},
     "output_type": "execute_result"
    }
   ],
   "source": [
    "get_random_chinese_letter()+ \" Ye string h \""
   ]
  },
  {
   "cell_type": "code",
   "execution_count": 18,
   "metadata": {},
   "outputs": [
    {
     "data": {
      "text/plain": [
       "'\\U0005722e\\U0005722e\\U0005722e\\U0005722e\\U0005722e'"
      ]
     },
     "execution_count": 18,
     "metadata": {},
     "output_type": "execute_result"
    }
   ],
   "source": [
    "get_random_chinese_letter()*5"
   ]
  },
  {
   "cell_type": "code",
   "execution_count": 19,
   "metadata": {},
   "outputs": [],
   "source": [
    "def simple_interest(p, r, t):\n",
    "    return p*r*t/100"
   ]
  },
  {
   "cell_type": "code",
   "execution_count": 21,
   "metadata": {},
   "outputs": [
    {
     "ename": "TypeError",
     "evalue": "simple_interest() missing 3 required positional arguments: 'p', 'r', and 't'",
     "output_type": "error",
     "traceback": [
      "\u001b[1;31m---------------------------------------------------------------------------\u001b[0m",
      "\u001b[1;31mTypeError\u001b[0m                                 Traceback (most recent call last)",
      "\u001b[1;32md:\\Python - Data Analytics\\Functions\\user_defined.ipynb Cell 15\u001b[0m line \u001b[0;36m1\n\u001b[1;32m----> <a href='vscode-notebook-cell:/d%3A/Python%20-%20Data%20Analytics/Functions/user_defined.ipynb#X25sZmlsZQ%3D%3D?line=0'>1</a>\u001b[0m ans \u001b[39m=\u001b[39m simple_interest()\n",
      "\u001b[1;31mTypeError\u001b[0m: simple_interest() missing 3 required positional arguments: 'p', 'r', and 't'"
     ]
    }
   ],
   "source": [
    "ans = simple_interest()"
   ]
  },
  {
   "cell_type": "code",
   "execution_count": 23,
   "metadata": {},
   "outputs": [
    {
     "name": "stdout",
     "output_type": "stream",
     "text": [
      "10127.999999999998\n"
     ]
    }
   ],
   "source": [
    "ans = simple_interest(120000, 2.11, 4)\n",
    "print(ans)"
   ]
  },
  {
   "cell_type": "code",
   "execution_count": 24,
   "metadata": {},
   "outputs": [
    {
     "data": {
      "text/plain": [
       "23400.0"
      ]
     },
     "execution_count": 24,
     "metadata": {},
     "output_type": "execute_result"
    }
   ],
   "source": [
    "simple_interest(p=150000, r=1.56, t= 10)"
   ]
  },
  {
   "cell_type": "code",
   "execution_count": 25,
   "metadata": {},
   "outputs": [
    {
     "data": {
      "text/plain": [
       "56128.0"
      ]
     },
     "execution_count": 25,
     "metadata": {},
     "output_type": "execute_result"
    }
   ],
   "source": [
    "simple_interest(r=10, p=112256, t= 5)"
   ]
  },
  {
   "cell_type": "code",
   "execution_count": null,
   "metadata": {},
   "outputs": [],
   "source": []
  }
 ],
 "metadata": {
  "kernelspec": {
   "display_name": "Python 3",
   "language": "python",
   "name": "python3"
  },
  "language_info": {
   "codemirror_mode": {
    "name": "ipython",
    "version": 3
   },
   "file_extension": ".py",
   "mimetype": "text/x-python",
   "name": "python",
   "nbconvert_exporter": "python",
   "pygments_lexer": "ipython3",
   "version": "3.11.5"
  }
 },
 "nbformat": 4,
 "nbformat_minor": 2
}
