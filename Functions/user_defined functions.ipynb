{
 "cells": [
  {
   "cell_type": "markdown",
   "metadata": {},
   "source": [
    "# User defined functions\n",
    "-> on the basis of signature func can be divided into\n",
    "- no argument no return type       (game proggraming mostly)\n",
    "- no argument with return type\n",
    "- with argument no return type\n",
    "- with argument with return type😍\n",
    "- Lambda func (anonymous func)"
   ]
  },
  {
   "cell_type": "markdown",
   "metadata": {},
   "source": [
    "*Conventions for making a functions*\n",
    "- func name should be in lower case\n",
    "- func should never take input from user\n",
    "- don't use print func to display result from func,prefer returning value\n",
    "- func must be defined before calling\n",
    "- func be called after they have been defined to actually execute them"
   ]
  },
  {
   "cell_type": "markdown",
   "metadata": {},
   "source": [
    "```pythin\n",
    "def func_name([params])\n",
    "```\n",
    "docaring\n",
    "```\n",
    "# body of func\n",
    "[return statement]"
   ]
  },
  {
   "cell_type": "code",
   "execution_count": 16,
   "metadata": {},
   "outputs": [],
   "source": [
    "def welcome():\n",
    "    '''a func that welcomes you'''\n",
    "    print(\"Welcome to python functions!\")"
   ]
  },
  {
   "cell_type": "code",
   "execution_count": 17,
   "metadata": {},
   "outputs": [
    {
     "name": "stdout",
     "output_type": "stream",
     "text": [
      "Welcome to python functions!\n"
     ]
    }
   ],
   "source": [
    "welcome()"
   ]
  },
  {
   "cell_type": "code",
   "execution_count": 18,
   "metadata": {},
   "outputs": [
    {
     "name": "stdout",
     "output_type": "stream",
     "text": [
      "Welcome to python functions!\n",
      "Welcome to python functions!\n",
      "Welcome to python functions!\n"
     ]
    }
   ],
   "source": [
    "for i in range(3):\n",
    "    welcome()"
   ]
  },
  {
   "cell_type": "code",
   "execution_count": 19,
   "metadata": {},
   "outputs": [],
   "source": [
    "# func returning value\n",
    "def get_random_letter():\n",
    "    import random\n",
    "    code=random.randint(0,256)\n",
    "    return chr(code)"
   ]
  },
  {
   "cell_type": "code",
   "execution_count": 20,
   "metadata": {},
   "outputs": [
    {
     "name": "stdout",
     "output_type": "stream",
     "text": [
      "?\n",
      "ï\n",
      "ú\n",
      "«\n"
     ]
    }
   ],
   "source": [
    "print(get_random_letter())\n",
    "print(get_random_letter())\n",
    "print(get_random_letter())\n",
    "print(get_random_letter())"
   ]
  },
  {
   "cell_type": "code",
   "execution_count": 21,
   "metadata": {},
   "outputs": [
    {
     "name": "stdout",
     "output_type": "stream",
     "text": [
      "(  \u0016 ç à C ,   8  "
     ]
    }
   ],
   "source": [
    "for i in range(10):\n",
    "    print(get_random_letter(),end=\" \")"
   ]
  },
  {
   "cell_type": "code",
   "execution_count": 22,
   "metadata": {},
   "outputs": [],
   "source": [
    "# func returning value\n",
    "def get_random_chinese_letter():\n",
    "    import random\n",
    "    code=random.randint(0x4e00,0x9ffff) # hexadecimals\n",
    "    return chr(code)"
   ]
  },
  {
   "cell_type": "code",
   "execution_count": 23,
   "metadata": {},
   "outputs": [
    {
     "name": "stdout",
     "output_type": "stream",
     "text": [
      "򑠷 򊐭 𮲧 񩲡 𓶄 񐻎 򋣑 񛻔 𷱲 򇭭 "
     ]
    }
   ],
   "source": [
    "for i in range(10):\n",
    "    print(get_random_chinese_letter(), end=\" \")"
   ]
  },
  {
   "cell_type": "code",
   "execution_count": 24,
   "metadata": {},
   "outputs": [
    {
     "data": {
      "text/plain": [
       "'\\U00056854 Ye string h '"
      ]
     },
     "execution_count": 24,
     "metadata": {},
     "output_type": "execute_result"
    }
   ],
   "source": [
    "get_random_chinese_letter()+ \" Ye string h \""
   ]
  },
  {
   "cell_type": "code",
   "execution_count": 25,
   "metadata": {},
   "outputs": [
    {
     "data": {
      "text/plain": [
       "'\\U00090ba4\\U00090ba4\\U00090ba4\\U00090ba4\\U00090ba4'"
      ]
     },
     "execution_count": 25,
     "metadata": {},
     "output_type": "execute_result"
    }
   ],
   "source": [
    "get_random_chinese_letter()*5"
   ]
  },
  {
   "cell_type": "code",
   "execution_count": 26,
   "metadata": {},
   "outputs": [],
   "source": [
    "def simple_interest(p, r, t):\n",
    "    return p*r*t/100"
   ]
  },
  {
   "cell_type": "code",
   "execution_count": 27,
   "metadata": {},
   "outputs": [
    {
     "ename": "TypeError",
     "evalue": "simple_interest() missing 3 required positional arguments: 'p', 'r', and 't'",
     "output_type": "error",
     "traceback": [
      "\u001b[1;31m---------------------------------------------------------------------------\u001b[0m",
      "\u001b[1;31mTypeError\u001b[0m                                 Traceback (most recent call last)",
      "\u001b[1;32md:\\Python - Data Analytics\\Functions\\user_defined functions.ipynb Cell 15\u001b[0m line \u001b[0;36m1\n\u001b[1;32m----> <a href='vscode-notebook-cell:/d%3A/Python%20-%20Data%20Analytics/Functions/user_defined%20functions.ipynb#X20sZmlsZQ%3D%3D?line=0'>1</a>\u001b[0m ans \u001b[39m=\u001b[39m simple_interest()\n",
      "\u001b[1;31mTypeError\u001b[0m: simple_interest() missing 3 required positional arguments: 'p', 'r', and 't'"
     ]
    }
   ],
   "source": [
    "ans = simple_interest()"
   ]
  },
  {
   "cell_type": "code",
   "execution_count": null,
   "metadata": {},
   "outputs": [
    {
     "name": "stdout",
     "output_type": "stream",
     "text": [
      "10127.999999999998\n"
     ]
    }
   ],
   "source": [
    "ans = simple_interest(120000, 2.11, 4)\n",
    "print(ans)"
   ]
  },
  {
   "cell_type": "code",
   "execution_count": null,
   "metadata": {},
   "outputs": [
    {
     "data": {
      "text/plain": [
       "23400.0"
      ]
     },
     "execution_count": 24,
     "metadata": {},
     "output_type": "execute_result"
    }
   ],
   "source": [
    "simple_interest(p=150000, r=1.56, t= 10)"
   ]
  },
  {
   "cell_type": "code",
   "execution_count": null,
   "metadata": {},
   "outputs": [
    {
     "data": {
      "text/plain": [
       "56128.0"
      ]
     },
     "execution_count": 25,
     "metadata": {},
     "output_type": "execute_result"
    }
   ],
   "source": [
    "simple_interest(r=10, p=112256, t= 5)"
   ]
  },
  {
   "cell_type": "markdown",
   "metadata": {},
   "source": [
    "#### parameterized functions\n",
    "functions that accept parameter are called parameterized functions,\n",
    "there are 4 types of parameterized functions\n",
    "- functions with `required`parameters\n",
    "- functions with `default` parameters\n",
    "- functions with `variable` parameter\n",
    "- functions with *variable keyword arguments*"
   ]
  },
  {
   "cell_type": "code",
   "execution_count": null,
   "metadata": {},
   "outputs": [],
   "source": [
    "def adder(a,b,c,d):\n",
    "    ans = a + b + c + d\n",
    "    return ans\n",
    "     "
   ]
  },
  {
   "cell_type": "code",
   "execution_count": null,
   "metadata": {},
   "outputs": [
    {
     "data": {
      "text/plain": [
       "36"
      ]
     },
     "execution_count": 2,
     "metadata": {},
     "output_type": "execute_result"
    }
   ],
   "source": [
    "adder(10,20,2,4) # all parameters are required"
   ]
  },
  {
   "cell_type": "code",
   "execution_count": null,
   "metadata": {},
   "outputs": [],
   "source": [
    "def adder2(a, b, c=1, d=1):\n",
    "    return a + b + c + d"
   ]
  },
  {
   "cell_type": "code",
   "execution_count": null,
   "metadata": {},
   "outputs": [
    {
     "name": "stdout",
     "output_type": "stream",
     "text": [
      "70\n",
      "41\n",
      "22\n",
      "17\n",
      "135\n",
      "131\n"
     ]
    }
   ],
   "source": [
    "print(adder2(10,10,20,30))\n",
    "print(adder2(10,10,20))\n",
    "print(adder2(10,10))\n",
    "print(adder2(a=10, b=1, d= 5))\n",
    "print(adder2(10, 20, c=100, d=5))\n",
    "print(adder2(10, 20, c=100))"
   ]
  },
  {
   "cell_type": "code",
   "execution_count": 30,
   "metadata": {},
   "outputs": [],
   "source": [
    "def save_file(content, filename='output.txt', rewrite=False, dont_change= False):\n",
    "    import os\n",
    "    if dont_change and os.path.exists(filename):\n",
    "        return\"file already exists\"\n",
    "    else:\n",
    "        with open(filename,'w') as f:\n",
    "            f.wreite(content)\n",
    "    return \"file saved\""
   ]
  },
  {
   "cell_type": "code",
   "execution_count": 33,
   "metadata": {},
   "outputs": [
    {
     "ename": "AttributeError",
     "evalue": "'_io.TextIOWrapper' object has no attribute 'wreite'",
     "output_type": "error",
     "traceback": [
      "\u001b[1;31m---------------------------------------------------------------------------\u001b[0m",
      "\u001b[1;31mAttributeError\u001b[0m                            Traceback (most recent call last)",
      "\u001b[1;32md:\\Python - Data Analytics\\Functions\\user_defined functions.ipynb Cell 25\u001b[0m line \u001b[0;36m5\n\u001b[0;32m      <a href='vscode-notebook-cell:/d%3A/Python%20-%20Data%20Analytics/Functions/user_defined%20functions.ipynb#X33sZmlsZQ%3D%3D?line=0'>1</a>\u001b[0m c\u001b[39m=\u001b[39m\u001b[39m'''\u001b[39m\u001b[39mye\u001b[39m\n\u001b[0;32m      <a href='vscode-notebook-cell:/d%3A/Python%20-%20Data%20Analytics/Functions/user_defined%20functions.ipynb#X33sZmlsZQ%3D%3D?line=1'>2</a>\u001b[0m \u001b[39mhai\u001b[39m\n\u001b[0;32m      <a href='vscode-notebook-cell:/d%3A/Python%20-%20Data%20Analytics/Functions/user_defined%20functions.ipynb#X33sZmlsZQ%3D%3D?line=2'>3</a>\u001b[0m \u001b[39mcontent\u001b[39m\n\u001b[0;32m      <a href='vscode-notebook-cell:/d%3A/Python%20-%20Data%20Analytics/Functions/user_defined%20functions.ipynb#X33sZmlsZQ%3D%3D?line=3'>4</a>\u001b[0m \u001b[39m'''\u001b[39m\n\u001b[1;32m----> <a href='vscode-notebook-cell:/d%3A/Python%20-%20Data%20Analytics/Functions/user_defined%20functions.ipynb#X33sZmlsZQ%3D%3D?line=4'>5</a>\u001b[0m save_file(c)\n",
      "\u001b[1;32md:\\Python - Data Analytics\\Functions\\user_defined functions.ipynb Cell 25\u001b[0m line \u001b[0;36m7\n\u001b[0;32m      <a href='vscode-notebook-cell:/d%3A/Python%20-%20Data%20Analytics/Functions/user_defined%20functions.ipynb#X33sZmlsZQ%3D%3D?line=4'>5</a>\u001b[0m \u001b[39melse\u001b[39;00m:\n\u001b[0;32m      <a href='vscode-notebook-cell:/d%3A/Python%20-%20Data%20Analytics/Functions/user_defined%20functions.ipynb#X33sZmlsZQ%3D%3D?line=5'>6</a>\u001b[0m     \u001b[39mwith\u001b[39;00m \u001b[39mopen\u001b[39m(filename,\u001b[39m'\u001b[39m\u001b[39mw\u001b[39m\u001b[39m'\u001b[39m) \u001b[39mas\u001b[39;00m f:\n\u001b[1;32m----> <a href='vscode-notebook-cell:/d%3A/Python%20-%20Data%20Analytics/Functions/user_defined%20functions.ipynb#X33sZmlsZQ%3D%3D?line=6'>7</a>\u001b[0m         f\u001b[39m.\u001b[39mwreite(content)\n\u001b[0;32m      <a href='vscode-notebook-cell:/d%3A/Python%20-%20Data%20Analytics/Functions/user_defined%20functions.ipynb#X33sZmlsZQ%3D%3D?line=7'>8</a>\u001b[0m \u001b[39mreturn\u001b[39;00m \u001b[39m\"\u001b[39m\u001b[39mfile saved\u001b[39m\u001b[39m\"\u001b[39m\n",
      "\u001b[1;31mAttributeError\u001b[0m: '_io.TextIOWrapper' object has no attribute 'wreite'"
     ]
    }
   ],
   "source": [
    "c='''ye\n",
    "hai\n",
    "content\n",
    "'''\n",
    "save_file(c)"
   ]
  },
  {
   "cell_type": "code",
   "execution_count": 32,
   "metadata": {},
   "outputs": [
    {
     "ename": "AttributeError",
     "evalue": "'_io.TextIOWrapper' object has no attribute 'wreite'",
     "output_type": "error",
     "traceback": [
      "\u001b[1;31m---------------------------------------------------------------------------\u001b[0m",
      "\u001b[1;31mAttributeError\u001b[0m                            Traceback (most recent call last)",
      "\u001b[1;32md:\\Python - Data Analytics\\Functions\\user_defined functions.ipynb Cell 26\u001b[0m line \u001b[0;36m4\n\u001b[0;32m      <a href='vscode-notebook-cell:/d%3A/Python%20-%20Data%20Analytics/Functions/user_defined%20functions.ipynb#X34sZmlsZQ%3D%3D?line=0'>1</a>\u001b[0m c\u001b[39m=\u001b[39m\u001b[39m'''\u001b[39m\u001b[39msomrthing\u001b[39m\n\u001b[0;32m      <a href='vscode-notebook-cell:/d%3A/Python%20-%20Data%20Analytics/Functions/user_defined%20functions.ipynb#X34sZmlsZQ%3D%3D?line=1'>2</a>\u001b[0m \u001b[39mis here\u001b[39m\n\u001b[0;32m      <a href='vscode-notebook-cell:/d%3A/Python%20-%20Data%20Analytics/Functions/user_defined%20functions.ipynb#X34sZmlsZQ%3D%3D?line=2'>3</a>\u001b[0m \u001b[39m'''\u001b[39m\n\u001b[1;32m----> <a href='vscode-notebook-cell:/d%3A/Python%20-%20Data%20Analytics/Functions/user_defined%20functions.ipynb#X34sZmlsZQ%3D%3D?line=3'>4</a>\u001b[0m save_file(c)\n",
      "\u001b[1;32md:\\Python - Data Analytics\\Functions\\user_defined functions.ipynb Cell 26\u001b[0m line \u001b[0;36m7\n\u001b[0;32m      <a href='vscode-notebook-cell:/d%3A/Python%20-%20Data%20Analytics/Functions/user_defined%20functions.ipynb#X34sZmlsZQ%3D%3D?line=4'>5</a>\u001b[0m \u001b[39melse\u001b[39;00m:\n\u001b[0;32m      <a href='vscode-notebook-cell:/d%3A/Python%20-%20Data%20Analytics/Functions/user_defined%20functions.ipynb#X34sZmlsZQ%3D%3D?line=5'>6</a>\u001b[0m     \u001b[39mwith\u001b[39;00m \u001b[39mopen\u001b[39m(filename,\u001b[39m'\u001b[39m\u001b[39mw\u001b[39m\u001b[39m'\u001b[39m) \u001b[39mas\u001b[39;00m f:\n\u001b[1;32m----> <a href='vscode-notebook-cell:/d%3A/Python%20-%20Data%20Analytics/Functions/user_defined%20functions.ipynb#X34sZmlsZQ%3D%3D?line=6'>7</a>\u001b[0m         f\u001b[39m.\u001b[39mwreite(content)\n\u001b[0;32m      <a href='vscode-notebook-cell:/d%3A/Python%20-%20Data%20Analytics/Functions/user_defined%20functions.ipynb#X34sZmlsZQ%3D%3D?line=7'>8</a>\u001b[0m \u001b[39mreturn\u001b[39;00m \u001b[39m\"\u001b[39m\u001b[39mfile saved\u001b[39m\u001b[39m\"\u001b[39m\n",
      "\u001b[1;31mAttributeError\u001b[0m: '_io.TextIOWrapper' object has no attribute 'wreite'"
     ]
    }
   ],
   "source": [
    "c='''somrthing\n",
    "is here\n",
    "'''\n",
    "save_file(c)"
   ]
  },
  {
   "cell_type": "code",
   "execution_count": 34,
   "metadata": {},
   "outputs": [
    {
     "ename": "AttributeError",
     "evalue": "'_io.TextIOWrapper' object has no attribute 'wreite'",
     "output_type": "error",
     "traceback": [
      "\u001b[1;31m---------------------------------------------------------------------------\u001b[0m",
      "\u001b[1;31mAttributeError\u001b[0m                            Traceback (most recent call last)",
      "\u001b[1;32md:\\Python - Data Analytics\\Functions\\user_defined functions.ipynb Cell 27\u001b[0m line \u001b[0;36m7\n\u001b[0;32m      <a href='vscode-notebook-cell:/d%3A/Python%20-%20Data%20Analytics/Functions/user_defined%20functions.ipynb#X35sZmlsZQ%3D%3D?line=0'>1</a>\u001b[0m data\u001b[39m=\u001b[39m \u001b[39m'''\u001b[39m\n\u001b[0;32m      <a href='vscode-notebook-cell:/d%3A/Python%20-%20Data%20Analytics/Functions/user_defined%20functions.ipynb#X35sZmlsZQ%3D%3D?line=1'>2</a>\u001b[0m \u001b[39mb 100\u001b[39m\n\u001b[0;32m      <a href='vscode-notebook-cell:/d%3A/Python%20-%20Data%20Analytics/Functions/user_defined%20functions.ipynb#X35sZmlsZQ%3D%3D?line=2'>3</a>\u001b[0m \u001b[39mc 200\u001b[39m\n\u001b[0;32m      <a href='vscode-notebook-cell:/d%3A/Python%20-%20Data%20Analytics/Functions/user_defined%20functions.ipynb#X35sZmlsZQ%3D%3D?line=3'>4</a>\u001b[0m \u001b[39mm 50\u001b[39m\n\u001b[0;32m      <a href='vscode-notebook-cell:/d%3A/Python%20-%20Data%20Analytics/Functions/user_defined%20functions.ipynb#X35sZmlsZQ%3D%3D?line=4'>5</a>\u001b[0m \u001b[39mc 500\u001b[39m\n\u001b[0;32m      <a href='vscode-notebook-cell:/d%3A/Python%20-%20Data%20Analytics/Functions/user_defined%20functions.ipynb#X35sZmlsZQ%3D%3D?line=5'>6</a>\u001b[0m \u001b[39m'''\u001b[39m\n\u001b[1;32m----> <a href='vscode-notebook-cell:/d%3A/Python%20-%20Data%20Analytics/Functions/user_defined%20functions.ipynb#X35sZmlsZQ%3D%3D?line=6'>7</a>\u001b[0m save_file(data, \u001b[39m'\u001b[39m\u001b[39mbudget.txt\u001b[39m\u001b[39m'\u001b[39m)\n",
      "\u001b[1;32md:\\Python - Data Analytics\\Functions\\user_defined functions.ipynb Cell 27\u001b[0m line \u001b[0;36m7\n\u001b[0;32m      <a href='vscode-notebook-cell:/d%3A/Python%20-%20Data%20Analytics/Functions/user_defined%20functions.ipynb#X35sZmlsZQ%3D%3D?line=4'>5</a>\u001b[0m \u001b[39melse\u001b[39;00m:\n\u001b[0;32m      <a href='vscode-notebook-cell:/d%3A/Python%20-%20Data%20Analytics/Functions/user_defined%20functions.ipynb#X35sZmlsZQ%3D%3D?line=5'>6</a>\u001b[0m     \u001b[39mwith\u001b[39;00m \u001b[39mopen\u001b[39m(filename,\u001b[39m'\u001b[39m\u001b[39mw\u001b[39m\u001b[39m'\u001b[39m) \u001b[39mas\u001b[39;00m f:\n\u001b[1;32m----> <a href='vscode-notebook-cell:/d%3A/Python%20-%20Data%20Analytics/Functions/user_defined%20functions.ipynb#X35sZmlsZQ%3D%3D?line=6'>7</a>\u001b[0m         f\u001b[39m.\u001b[39mwreite(content)\n\u001b[0;32m      <a href='vscode-notebook-cell:/d%3A/Python%20-%20Data%20Analytics/Functions/user_defined%20functions.ipynb#X35sZmlsZQ%3D%3D?line=7'>8</a>\u001b[0m \u001b[39mreturn\u001b[39;00m \u001b[39m\"\u001b[39m\u001b[39mfile saved\u001b[39m\u001b[39m\"\u001b[39m\n",
      "\u001b[1;31mAttributeError\u001b[0m: '_io.TextIOWrapper' object has no attribute 'wreite'"
     ]
    }
   ],
   "source": [
    "data= '''\n",
    "b 100\n",
    "c 200\n",
    "m 50\n",
    "c 500\n",
    "'''\n",
    "save_file(data, 'budget.txt')"
   ]
  },
  {
   "cell_type": "code",
   "execution_count": 36,
   "metadata": {},
   "outputs": [
    {
     "data": {
      "text/plain": [
       "'file already exists'"
      ]
     },
     "execution_count": 36,
     "metadata": {},
     "output_type": "execute_result"
    }
   ],
   "source": [
    "data2= '''\n",
    "b 1000\n",
    "c 2000\n",
    "m 500\n",
    "c 5000\n",
    "'''\n",
    "save_file(data, 'budget.txt', dont_change=True)"
   ]
  },
  {
   "cell_type": "code",
   "execution_count": 37,
   "metadata": {},
   "outputs": [],
   "source": [
    "def calc(a,b, o='+'):\n",
    "    if 0=='+':\n",
    "        return a+b\n",
    "    elif o=='-':\n",
    "        return a-b\n",
    "    elif 0 == '*':\n",
    "        return a*b\n",
    "    elif 0 == '/':\n",
    "        return a/b\n",
    "    else:\n",
    "        return \"invalid operator use(+ - * /)\"\n"
   ]
  },
  {
   "cell_type": "code",
   "execution_count": 38,
   "metadata": {},
   "outputs": [
    {
     "name": "stdout",
     "output_type": "stream",
     "text": [
      "invalid operator use(+ - * /)\n",
      "invalid operator use(+ - * /)\n",
      "invalid operator use(+ - * /)\n",
      "-10\n"
     ]
    }
   ],
   "source": [
    "print(calc(10,20))\n",
    "print(calc(10,20, '*'))\n",
    "print(calc(10,20, '/'))\n",
    "print(calc(10,20, '-'))"
   ]
  },
  {
   "cell_type": "code",
   "execution_count": 39,
   "metadata": {},
   "outputs": [],
   "source": [
    "# variable arguments\n",
    "def adderv3(*numbers):\n",
    "    print(f\"func got {numbers}\")\n",
    "    return sum(numbers)"
   ]
  },
  {
   "cell_type": "code",
   "execution_count": 40,
   "metadata": {},
   "outputs": [
    {
     "name": "stdout",
     "output_type": "stream",
     "text": [
      "func got ()\n",
      "0\n",
      "func got (12,)\n",
      "12\n",
      "func got (1, 2, 3, 4)\n",
      "10\n",
      "func got (11, 2, 3, 3, 12, 3, 123, 3, 123)\n",
      "283\n"
     ]
    }
   ],
   "source": [
    "print(adderv3())\n",
    "print(adderv3(12))\n",
    "print(adderv3(1,2,3,4))\n",
    "print(adderv3(11,2,3,3,12,3,123,3,123))"
   ]
  },
  {
   "cell_type": "code",
   "execution_count": 41,
   "metadata": {},
   "outputs": [],
   "source": [
    "# avg\n",
    "def average(*data):\n",
    "    if len(data)> 0:\n",
    "        return sum(data)/len(data)\n",
    "    return 0"
   ]
  },
  {
   "cell_type": "code",
   "execution_count": 43,
   "metadata": {},
   "outputs": [
    {
     "data": {
      "text/plain": [
       "0"
      ]
     },
     "execution_count": 43,
     "metadata": {},
     "output_type": "execute_result"
    }
   ],
   "source": [
    "average()"
   ]
  },
  {
   "cell_type": "code",
   "execution_count": 44,
   "metadata": {},
   "outputs": [
    {
     "data": {
      "text/plain": [
       "10.0"
      ]
     },
     "execution_count": 44,
     "metadata": {},
     "output_type": "execute_result"
    }
   ],
   "source": [
    "average(12,8,10)"
   ]
  },
  {
   "cell_type": "code",
   "execution_count": 49,
   "metadata": {},
   "outputs": [],
   "source": [
    "def names(**details):\n",
    "    for k,v in details.items():\n",
    "        print(f\"{k} is {v}\")"
   ]
  },
  {
   "cell_type": "code",
   "execution_count": 50,
   "metadata": {},
   "outputs": [
    {
     "name": "stdout",
     "output_type": "stream",
     "text": [
      "rahul is 29\n",
      "raj is 30\n",
      "sonu is 31\n"
     ]
    }
   ],
   "source": [
    "names(rahul=29, raj=30,sonu=31)"
   ]
  },
  {
   "cell_type": "code",
   "execution_count": 51,
   "metadata": {},
   "outputs": [
    {
     "name": "stdout",
     "output_type": "stream",
     "text": [
      "rahul is 29\n"
     ]
    }
   ],
   "source": [
    "names(rahul=29)"
   ]
  },
  {
   "cell_type": "code",
   "execution_count": 52,
   "metadata": {},
   "outputs": [
    {
     "name": "stdout",
     "output_type": "stream",
     "text": [
      "ajay is 29\n",
      "rahul is 29\n",
      "raj is 30\n",
      "sonu is 32\n"
     ]
    }
   ],
   "source": [
    "names(ajay=29, rahul=29, raj=30, sonu=32)"
   ]
  },
  {
   "cell_type": "code",
   "execution_count": 60,
   "metadata": {},
   "outputs": [],
   "source": [
    "f = lambda x: x + 2*x\n",
    "g = lambda x, y: x** y + 10"
   ]
  },
  {
   "cell_type": "code",
   "execution_count": null,
   "metadata": {},
   "outputs": [
    {
     "name": "stdout",
     "output_type": "stream",
     "text": [
      "30\n"
     ]
    },
    {
     "ename": "TypeError",
     "evalue": "<lambda>() missing 1 required positional argument: 'y'",
     "output_type": "error",
     "traceback": [
      "\u001b[1;31m---------------------------------------------------------------------------\u001b[0m",
      "\u001b[1;31mTypeError\u001b[0m                                 Traceback (most recent call last)",
      "\u001b[1;32md:\\Python - Data Analytics\\Functions\\user_defined functions.ipynb Cell 41\u001b[0m line \u001b[0;36m1\n\u001b[1;32m----> <a href='vscode-notebook-cell:/d%3A/Python%20-%20Data%20Analytics/Functions/user_defined%20functions.ipynb#X56sZmlsZQ%3D%3D?line=0'>1</a>\u001b[0m \u001b[39mprint\u001b[39m(f(\u001b[39m10\u001b[39m)) \u001b[39m+\u001b[39m g((\u001b[39m10\u001b[39m,\u001b[39m2\u001b[39m))\n",
      "\u001b[1;31mTypeError\u001b[0m: <lambda>() missing 1 required positional argument: 'y'"
     ]
    }
   ],
   "source": [
    "print(f(10)) + g((10,2))"
   ]
  },
  {
   "cell_type": "code",
   "execution_count": 8,
   "metadata": {},
   "outputs": [
    {
     "name": "stdout",
     "output_type": "stream",
     "text": [
      "[1, 2, 3, 4, 5, 6, 7, 8, 10, 12]\n",
      "[3, 4, 5, 6, 7, 8, 9, 10, 12, 14]\n"
     ]
    }
   ],
   "source": [
    "x = [1,2,3,4,5,6,7,8,10,12]\n",
    "a =[i+2 for i in x]\n",
    "print(x)\n",
    "print(a)"
   ]
  },
  {
   "cell_type": "code",
   "execution_count": 9,
   "metadata": {},
   "outputs": [
    {
     "name": "stdout",
     "output_type": "stream",
     "text": [
      "[1, 3, 7, 9, 9, 88, 76]\n",
      "[3, 5, 9, 11, 11, 90, 78]\n"
     ]
    }
   ],
   "source": [
    "x= [1,3,7,9,9,88,76]\n",
    "xnew= list(map(lambda i:i+2, x))\n",
    "print(x)\n",
    "print(xnew)"
   ]
  },
  {
   "cell_type": "code",
   "execution_count": 13,
   "metadata": {},
   "outputs": [
    {
     "data": {
      "text/plain": [
       "<map at 0x15101839630>"
      ]
     },
     "execution_count": 13,
     "metadata": {},
     "output_type": "execute_result"
    }
   ],
   "source": [
    "# Comprehension\n",
    "a = [1,2,3,11]\n",
    "b = [3,5,7,9]\n",
    "#c = [i+j for i,j in zip(a,b)]\n",
    "# Lambda\n",
    "map(lambda i,j:i+j,a,b)"
   ]
  },
  {
   "cell_type": "code",
   "execution_count": 19,
   "metadata": {},
   "outputs": [
    {
     "name": "stdout",
     "output_type": "stream",
     "text": [
      "8,8,9 <class 'str'>\n"
     ]
    }
   ],
   "source": [
    "numbers = input(\"Enter numbers seperated with comma:\")\n",
    "print(numbers, type(numbers))"
   ]
  },
  {
   "cell_type": "code",
   "execution_count": 22,
   "metadata": {},
   "outputs": [
    {
     "data": {
      "text/plain": [
       "[8, 8, 9]"
      ]
     },
     "execution_count": 22,
     "metadata": {},
     "output_type": "execute_result"
    }
   ],
   "source": [
    "list(map(int,numbers.split(',')))"
   ]
  },
  {
   "cell_type": "code",
   "execution_count": 25,
   "metadata": {},
   "outputs": [],
   "source": [
    "names = [\n",
    "    'Clark Kent',\n",
    "    'Bruce Wayne',\n",
    "    'Hal Jordan',\n",
    "]\n",
    "# create a list first name in lower case only\n"
   ]
  },
  {
   "cell_type": "code",
   "execution_count": 28,
   "metadata": {},
   "outputs": [
    {
     "name": "stdout",
     "output_type": "stream",
     "text": [
      "['clark', 'bruce', 'hal']\n"
     ]
    }
   ],
   "source": [
    "fnames = list(map(lambda i:i.split()[0].lower(),names))\n",
    "print(fnames)"
   ]
  },
  {
   "cell_type": "code",
   "execution_count": 30,
   "metadata": {},
   "outputs": [],
   "source": [
    "data = [[12,5] , [3,5] , [2,2]]"
   ]
  },
  {
   "cell_type": "code",
   "execution_count": 33,
   "metadata": {},
   "outputs": [
    {
     "name": "stdout",
     "output_type": "stream",
     "text": [
      "(13.0, 5.830951894845301, 2.8284271247461903)\n"
     ]
    }
   ],
   "source": [
    "from math import hypot\n",
    "ans = tuple(map(lambda i: hypot(i[0], i[1], ),data))\n",
    "print(ans)"
   ]
  },
  {
   "cell_type": "code",
   "execution_count": 36,
   "metadata": {},
   "outputs": [
    {
     "name": "stdout",
     "output_type": "stream",
     "text": [
      "['cba', 'fed', 'ihg']\n"
     ]
    }
   ],
   "source": [
    "def apna_func(value):\n",
    "    return value[::-1]\n",
    "\n",
    "data = ['abc', 'def', 'ghi']\n",
    "rev_data = list(map(apna_func, data))\n",
    "print(rev_data)"
   ]
  },
  {
   "cell_type": "code",
   "execution_count": 37,
   "metadata": {},
   "outputs": [
    {
     "data": {
      "text/plain": [
       "[1, 3, 7, 9, 9, 88, 76]"
      ]
     },
     "execution_count": 37,
     "metadata": {},
     "output_type": "execute_result"
    }
   ],
   "source": [
    "x"
   ]
  },
  {
   "cell_type": "code",
   "execution_count": 38,
   "metadata": {},
   "outputs": [
    {
     "data": {
      "text/plain": [
       "[88, 76]"
      ]
     },
     "execution_count": 38,
     "metadata": {},
     "output_type": "execute_result"
    }
   ],
   "source": [
    "list(filter(lambda i: i>10, x))"
   ]
  },
  {
   "cell_type": "code",
   "execution_count": 39,
   "metadata": {},
   "outputs": [
    {
     "data": {
      "text/plain": [
       "['Clark Kent', 'Bruce Wayne', 'Hal Jordan']"
      ]
     },
     "execution_count": 39,
     "metadata": {},
     "output_type": "execute_result"
    }
   ],
   "source": [
    "names"
   ]
  },
  {
   "cell_type": "code",
   "execution_count": 40,
   "metadata": {},
   "outputs": [
    {
     "data": {
      "text/plain": [
       "['Clark Kent', 'Bruce Wayne']"
      ]
     },
     "execution_count": 40,
     "metadata": {},
     "output_type": "execute_result"
    }
   ],
   "source": [
    "list(filter(lambda i: \"e\" in i, names))"
   ]
  },
  {
   "cell_type": "code",
   "execution_count": null,
   "metadata": {},
   "outputs": [],
   "source": []
  }
 ],
 "metadata": {
  "kernelspec": {
   "display_name": "Python 3",
   "language": "python",
   "name": "python3"
  },
  "language_info": {
   "codemirror_mode": {
    "name": "ipython",
    "version": 3
   },
   "file_extension": ".py",
   "mimetype": "text/x-python",
   "name": "python",
   "nbconvert_exporter": "python",
   "pygments_lexer": "ipython3",
   "version": "3.11.5"
  }
 },
 "nbformat": 4,
 "nbformat_minor": 2
}
