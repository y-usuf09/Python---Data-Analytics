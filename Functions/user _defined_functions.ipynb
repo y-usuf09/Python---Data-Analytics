{
 "cells": [
  {
   "cell_type": "markdown",
   "metadata": {},
   "source": [
    "# user defined functions\n",
    "-> on the basics of signature functions can be divided into\n",
    "\n",
    "1. no argument no return type\n",
    "2. no argument with return type (game programming mostly)\n",
    "3. with argument no return type\n",
    "4. with argument with return type 😍\n",
    "5. lambda function (anonymous functions)"
   ]
  },
  {
   "cell_type": "markdown",
   "metadata": {},
   "source": [
    "*conventions for making a function*\n",
    "- function name should be in lower case\n",
    "- function should never take input from user\n",
    "- dont use print function to display result from func, prefer returning value\n",
    "- functions must be defined before calling\n",
    "- functions should be called after they have been defined to actually execute them"
   ]
  },
  {
   "cell_type": "markdown",
   "metadata": {},
   "source": [
    "syntax\n",
    "```\n",
    "def func_name([params]):\n",
    "'''\n",
    "docstring\n",
    "'''\n",
    "# body of functions\n",
    "[return statement]\n",
    "```"
   ]
  },
  {
   "cell_type": "code",
   "execution_count": 18,
   "metadata": {},
   "outputs": [],
   "source": [
    "def welcome():\n",
    "    '''a function that welcomes users'''\n",
    "    print(\"welcome to python functions!\")"
   ]
  },
  {
   "cell_type": "code",
   "execution_count": 19,
   "metadata": {},
   "outputs": [
    {
     "name": "stdout",
     "output_type": "stream",
     "text": [
      "welcome to python functions!\n"
     ]
    }
   ],
   "source": [
    "welcome()"
   ]
  },
  {
   "cell_type": "code",
   "execution_count": 20,
   "metadata": {},
   "outputs": [
    {
     "name": "stdout",
     "output_type": "stream",
     "text": [
      "welcome to python functions!\n",
      "welcome to python functions!\n",
      "welcome to python functions!\n"
     ]
    }
   ],
   "source": [
    "for i in range(3):\n",
    "    welcome()"
   ]
  },
  {
   "cell_type": "code",
   "execution_count": 21,
   "metadata": {},
   "outputs": [],
   "source": [
    "# functions returning value\n",
    "def get_random_letter():\n",
    "    import random\n",
    "    Code = random.randint(0,256)\n",
    "    return chr(Code)\n"
   ]
  },
  {
   "cell_type": "code",
   "execution_count": 22,
   "metadata": {},
   "outputs": [
    {
     "name": "stdout",
     "output_type": "stream",
     "text": [
      "Ü\n",
      "ü\n",
      "\n",
      "\u0014\n"
     ]
    }
   ],
   "source": [
    "print(get_random_letter())\n",
    "print(get_random_letter())\n",
    "print(get_random_letter())\n",
    "print(get_random_letter())"
   ]
  },
  {
   "cell_type": "code",
   "execution_count": 23,
   "metadata": {},
   "outputs": [],
   "source": [
    "# functions returning value\n",
    "def get_random_letter():\n",
    "    import random\n",
    "    Code = random.randint(2304,2432)\n",
    "    return chr(Code)\n"
   ]
  },
  {
   "cell_type": "code",
   "execution_count": 24,
   "metadata": {},
   "outputs": [
    {
     "name": "stdout",
     "output_type": "stream",
     "text": [
      "ा ঀ ॱ ऐ २ द स थ ८ ॑ "
     ]
    }
   ],
   "source": [
    "for i in range (10):\n",
    "    print(get_random_letter(), end=\" \")"
   ]
  },
  {
   "cell_type": "code",
   "execution_count": 25,
   "metadata": {},
   "outputs": [],
   "source": [
    "# functions returning value\n",
    "def get_random_chinese_letter():\n",
    "    import random\n",
    "    Code = random.randint(0x4e00,0x9fff) # hexadecimals\n",
    "    return chr(Code)"
   ]
  },
  {
   "cell_type": "code",
   "execution_count": 26,
   "metadata": {},
   "outputs": [
    {
     "name": "stdout",
     "output_type": "stream",
     "text": [
      "墭 擞 糦 镵 魅 裁 曵 姚 抔 矪 "
     ]
    }
   ],
   "source": [
    "for i in range (10):\n",
    "    print(get_random_chinese_letter(), end=\" \")"
   ]
  },
  {
   "cell_type": "code",
   "execution_count": 27,
   "metadata": {},
   "outputs": [
    {
     "data": {
      "text/plain": [
       "'財 ye string h'"
      ]
     },
     "execution_count": 27,
     "metadata": {},
     "output_type": "execute_result"
    }
   ],
   "source": [
    "get_random_chinese_letter()+\" ye string h\""
   ]
  },
  {
   "cell_type": "code",
   "execution_count": 28,
   "metadata": {},
   "outputs": [
    {
     "data": {
      "text/plain": [
       "'仜仜仜仜仜'"
      ]
     },
     "execution_count": 28,
     "metadata": {},
     "output_type": "execute_result"
    }
   ],
   "source": [
    "get_random_chinese_letter()*5"
   ]
  },
  {
   "cell_type": "code",
   "execution_count": 29,
   "metadata": {},
   "outputs": [],
   "source": [
    "def simple_intrest(p, r, t): # required params\n",
    "    return p*r*t/100\n"
   ]
  },
  {
   "cell_type": "code",
   "execution_count": 30,
   "metadata": {},
   "outputs": [
    {
     "name": "stdout",
     "output_type": "stream",
     "text": [
      "10127.999999999998\n"
     ]
    }
   ],
   "source": [
    "ans = simple_intrest(120000,2.11,4) # positional params\n",
    "print(ans)"
   ]
  },
  {
   "cell_type": "code",
   "execution_count": 31,
   "metadata": {},
   "outputs": [
    {
     "data": {
      "text/plain": [
       "56128.0"
      ]
     },
     "execution_count": 31,
     "metadata": {},
     "output_type": "execute_result"
    }
   ],
   "source": [
    "simple_intrest(p=150000, r=1.56, t=10) # named argument\n",
    "simple_intrest(r=10, p=112256, t=5)"
   ]
  },
  {
   "cell_type": "markdown",
   "metadata": {},
   "source": [
    "# Parameterized functions\n",
    "functions that accepts parameters are called parameterized functions,\n",
    "there are 4 types of parameterized functions\n",
    "- functions with `required` Parameters\n",
    "- functions with `default` parameters\n",
    "- functions with `variable` parameters/arguments\n",
    "- functions with `variable keyword arguments`"
   ]
  },
  {
   "cell_type": "code",
   "execution_count": 32,
   "metadata": {},
   "outputs": [],
   "source": [
    "def adder(a,b,c,d):\n",
    "    ans = a + b + c + d\n",
    "    return ans"
   ]
  },
  {
   "cell_type": "code",
   "execution_count": 33,
   "metadata": {},
   "outputs": [
    {
     "data": {
      "text/plain": [
       "36"
      ]
     },
     "execution_count": 33,
     "metadata": {},
     "output_type": "execute_result"
    }
   ],
   "source": [
    "adder(10,20,2,4) # all Parameters are required"
   ]
  },
  {
   "cell_type": "code",
   "execution_count": 34,
   "metadata": {},
   "outputs": [],
   "source": [
    "# c and d are optional parameters , since they have default values\n",
    "def adderv2(a,b, c=1, d=1):\n",
    "    return a + b + c + d"
   ]
  },
  {
   "cell_type": "code",
   "execution_count": 35,
   "metadata": {},
   "outputs": [
    {
     "name": "stdout",
     "output_type": "stream",
     "text": [
      "70\n",
      "41\n",
      "22\n",
      "26\n",
      "36\n",
      "125\n",
      "131\n"
     ]
    }
   ],
   "source": [
    "print(adderv2(10,10,20,30))\n",
    "print(adderv2(10,10,20))\n",
    "print(adderv2(10,10))\n",
    "print(adderv2(a=10,b=10 , d=5))\n",
    "print(adderv2(10,20 ,d=5))\n",
    "print(adderv2(10,10,c=100,d=5))\n",
    "print(adderv2(10,20,c=100))"
   ]
  },
  {
   "cell_type": "code",
   "execution_count": 39,
   "metadata": {},
   "outputs": [],
   "source": [
    "def save_file(content,filename='output.txt', notwrite= False):\n",
    "    import os\n",
    "    if notwrite and  os.path.exists(filename):\n",
    "        return \"file already exists\"\n",
    "    else: \n",
    "         with open(filename, 'w') as f:\n",
    "           f.write(content)\n",
    "         return \"file saved\""
   ]
  },
  {
   "cell_type": "code",
   "execution_count": 40,
   "metadata": {},
   "outputs": [
    {
     "data": {
      "text/plain": [
       "'file saved'"
      ]
     },
     "execution_count": 40,
     "metadata": {},
     "output_type": "execute_result"
    }
   ],
   "source": [
    "c= '''ye \n",
    "raha \n",
    "Content\n",
    "'''\n",
    "\n",
    "save_file(c)\n"
   ]
  },
  {
   "cell_type": "code",
   "execution_count": 41,
   "metadata": {},
   "outputs": [
    {
     "data": {
      "text/plain": [
       "'file saved'"
      ]
     },
     "execution_count": 41,
     "metadata": {},
     "output_type": "execute_result"
    }
   ],
   "source": [
    "c=''' something\n",
    " else is here'''\n",
    "save_file(c)"
   ]
  },
  {
   "cell_type": "code",
   "execution_count": 42,
   "metadata": {},
   "outputs": [
    {
     "data": {
      "text/plain": [
       "'file already exists'"
      ]
     },
     "execution_count": 42,
     "metadata": {},
     "output_type": "execute_result"
    }
   ],
   "source": [
    "c='''another content here'''\n",
    "save_file(c,notwrite=True)"
   ]
  },
  {
   "cell_type": "code",
   "execution_count": 43,
   "metadata": {},
   "outputs": [
    {
     "data": {
      "text/plain": [
       "'file saved'"
      ]
     },
     "execution_count": 43,
     "metadata": {},
     "output_type": "execute_result"
    }
   ],
   "source": [
    "save_file(c,\"output.csv\")\n",
    "save_file(c,\"output2.txt\")"
   ]
  },
  {
   "cell_type": "code",
   "execution_count": 44,
   "metadata": {},
   "outputs": [
    {
     "data": {
      "text/plain": [
       "'file saved'"
      ]
     },
     "execution_count": 44,
     "metadata": {},
     "output_type": "execute_result"
    }
   ],
   "source": [
    "data = '''\n",
    "biscuit 100\n",
    "chocolate 500\n",
    "milk 50\n",
    "clothes 500\n",
    "'''\"user _defined_functions.ipynb\"\n",
    "save_file(data, 'budget.txt')"
   ]
  },
  {
   "cell_type": "code",
   "execution_count": 46,
   "metadata": {},
   "outputs": [
    {
     "data": {
      "text/plain": [
       "'file saved'"
      ]
     },
     "execution_count": 46,
     "metadata": {},
     "output_type": "execute_result"
    }
   ],
   "source": [
    "data2 = '''\n",
    "biscuit 1200\n",
    "chocolate 5000\n",
    "milk 500\n",
    "clothes 2500\n",
    "'''\n",
    "save_file(data, 'budget2.txt', notwrite=True)"
   ]
  },
  {
   "cell_type": "code",
   "execution_count": 52,
   "metadata": {},
   "outputs": [],
   "source": [
    "def calc(a,b, O='+'):\n",
    "    if O == '+':\n",
    "        return a+b\n",
    "    elif O == '-':\n",
    "        return a-b\n",
    "    elif O == '*':\n",
    "        return a*b\n",
    "    elif O == '/':\n",
    "        return a/b\n",
    "    else:\n",
    "        return \"invalid operator use(+ - * /)\""
   ]
  },
  {
   "cell_type": "code",
   "execution_count": 53,
   "metadata": {},
   "outputs": [
    {
     "name": "stdout",
     "output_type": "stream",
     "text": [
      "30\n",
      "200\n",
      "-10\n",
      "0.5\n"
     ]
    }
   ],
   "source": [
    "print(calc(10,20))\n",
    "print(calc(10,20,'*'))\n",
    "print(calc(10,20, '-'))\n",
    "print(calc(10,20, '/'))"
   ]
  },
  {
   "cell_type": "code",
   "execution_count": 56,
   "metadata": {},
   "outputs": [],
   "source": [
    "# variable arguments\n",
    "def adderv3(*numbers):\n",
    "    print(f\"func got {numbers}\")\n",
    "    return sum(numbers)"
   ]
  },
  {
   "cell_type": "code",
   "execution_count": 57,
   "metadata": {},
   "outputs": [
    {
     "name": "stdout",
     "output_type": "stream",
     "text": [
      "func got ()\n",
      "0\n",
      "func got (12,)\n",
      "12\n",
      "func got (1, 2, 3, 4)\n",
      "10\n",
      "func got (11, 2, 33, 4, 5, 6, 7, 8, 4, 3, 3222)\n",
      "3305\n"
     ]
    }
   ],
   "source": [
    "print(adderv3())\n",
    "print(adderv3(12))\n",
    "print(adderv3(1,2,3,4))\n",
    "print(adderv3(11,2,33,4,5,6,7,8,4,3,3222))\n"
   ]
  },
  {
   "cell_type": "code",
   "execution_count": 61,
   "metadata": {},
   "outputs": [],
   "source": [
    "# avg\n",
    "def avg(*data):\n",
    "    if len(data) > 0:\n",
    "        return sum(data)/len(data)\n",
    "    return 0"
   ]
  },
  {
   "cell_type": "code",
   "execution_count": 64,
   "metadata": {},
   "outputs": [
    {
     "data": {
      "text/plain": [
       "2.0"
      ]
     },
     "execution_count": 64,
     "metadata": {},
     "output_type": "execute_result"
    }
   ],
   "source": [
    "avg(1,2,3)"
   ]
  },
  {
   "cell_type": "code",
   "execution_count": 65,
   "metadata": {},
   "outputs": [
    {
     "data": {
      "text/plain": [
       "21.0"
      ]
     },
     "execution_count": 65,
     "metadata": {},
     "output_type": "execute_result"
    }
   ],
   "source": [
    "avg(12,45,6)"
   ]
  },
  {
   "cell_type": "code",
   "execution_count": 4,
   "metadata": {},
   "outputs": [],
   "source": [
    "def names(**details):\n",
    "    for k,v in details.items():\n",
    "        print(f\"{k} is {v}\")\n",
    "    "
   ]
  },
  {
   "cell_type": "code",
   "execution_count": 5,
   "metadata": {},
   "outputs": [
    {
     "name": "stdout",
     "output_type": "stream",
     "text": [
      "rahul is 20\n",
      "raj is 10\n",
      "ravi is 31\n"
     ]
    }
   ],
   "source": [
    "names(rahul= 20, raj= 10, ravi=31)"
   ]
  },
  {
   "cell_type": "code",
   "execution_count": 7,
   "metadata": {},
   "outputs": [],
   "source": [
    "f = lambda x : x +2*x\n",
    "g = lambda x , y: x** y +10"
   ]
  },
  {
   "cell_type": "code",
   "execution_count": 8,
   "metadata": {},
   "outputs": [
    {
     "name": "stdout",
     "output_type": "stream",
     "text": [
      "140\n"
     ]
    }
   ],
   "source": [
    "print(f(10)+ g(10,2))"
   ]
  },
  {
   "cell_type": "markdown",
   "metadata": {},
   "source": [
    "# Map and filter\n",
    "- map - to apply an operation on each element of iterable\n",
    "- filter - to apply a condition on each item of an iterable and give only those items that have true value\n",
    "- lst(map(func,iterable))"
   ]
  },
  {
   "cell_type": "code",
   "execution_count": 1,
   "metadata": {},
   "outputs": [
    {
     "name": "stdout",
     "output_type": "stream",
     "text": [
      "[1, 2, 3, 4, 6, 7, 8, 9, 10, 12]\n",
      "{3, 4, 5, 6, 8, 9, 10, 11, 12, 14}\n"
     ]
    }
   ],
   "source": [
    "x=[1,2,3,4,6,7,8,9,10,12]\n",
    "x2={i+2 for i in x}\n",
    "print(x)\n",
    "print(x2)"
   ]
  },
  {
   "cell_type": "code",
   "execution_count": 2,
   "metadata": {},
   "outputs": [
    {
     "data": {
      "text/plain": [
       "<map at 0x192d7699750>"
      ]
     },
     "execution_count": 2,
     "metadata": {},
     "output_type": "execute_result"
    }
   ],
   "source": [
    "map(lambda x: x**2,[51,2,3,13,4,5])"
   ]
  },
  {
   "cell_type": "code",
   "execution_count": 5,
   "metadata": {},
   "outputs": [
    {
     "name": "stdout",
     "output_type": "stream",
     "text": [
      "[1, 23, 12, 31, 2, 3, 12, 3, 12, 31, 2]\n",
      "[3, 25, 14, 33, 4, 5, 14, 5, 14, 33, 4]\n"
     ]
    }
   ],
   "source": [
    "x =[1,23,12,31,2,3,12,3,12,31,2]\n",
    "xnew = list(map(lambda i:i +2 , x))\n",
    "print(x)\n",
    "print(xnew)"
   ]
  },
  {
   "cell_type": "code",
   "execution_count": 4,
   "metadata": {},
   "outputs": [
    {
     "name": "stdout",
     "output_type": "stream",
     "text": [
      "[4, 7, 15, 23]\n"
     ]
    }
   ],
   "source": [
    "a = [1,2,5,11]\n",
    "b = [3,5,10,12]\n",
    "c = [i+j for i,j in zip (a,b)]\n",
    "print(c)"
   ]
  },
  {
   "cell_type": "code",
   "execution_count": 18,
   "metadata": {},
   "outputs": [
    {
     "name": "stdout",
     "output_type": "stream",
     "text": [
      "45,54,74,84,56 <class 'str'>\n",
      "[45, 54, 74, 84, 56] <class 'list'>\n"
     ]
    }
   ],
   "source": [
    "numbers = (input(\"Enter the numbers seperated by comma:\"))\n",
    "print(numbers, type(numbers))\n",
    "numbers = list(map(int ,numbers.split(',')))\n",
    "print(numbers, type(numbers))"
   ]
  },
  {
   "cell_type": "code",
   "execution_count": 21,
   "metadata": {},
   "outputs": [],
   "source": [
    "names = [\n",
    "    'Clark Kent',\n",
    "    'Bruce Wayne',\n",
    "    'Hal Jordan',\n",
    "]\n",
    "# create a list with firstname to lower case only"
   ]
  },
  {
   "cell_type": "code",
   "execution_count": 25,
   "metadata": {},
   "outputs": [
    {
     "name": "stdout",
     "output_type": "stream",
     "text": [
      "['clark', 'bruce', 'hal']\n"
     ]
    }
   ],
   "source": [
    "fnames =list(map(lambda i:i.split()[0].lower(), names))\n",
    "print(fnames)"
   ]
  },
  {
   "cell_type": "code",
   "execution_count": 26,
   "metadata": {},
   "outputs": [],
   "source": [
    "data = [[12,4], [3,5], [2,2]]\n",
    "\n"
   ]
  },
  {
   "cell_type": "code",
   "execution_count": 27,
   "metadata": {},
   "outputs": [
    {
     "name": "stdout",
     "output_type": "stream",
     "text": [
      "(12.649110640673518, 5.830951894845301, 2.8284271247461903)\n"
     ]
    }
   ],
   "source": [
    "from math import hypot\n",
    "ans =tuple(map(lambda i: hypot(i[0],i[1]), data))\n",
    "print(ans)"
   ]
  },
  {
   "cell_type": "code",
   "execution_count": 28,
   "metadata": {},
   "outputs": [
    {
     "name": "stdout",
     "output_type": "stream",
     "text": [
      "['cba', 'fed', 'ihg']\n"
     ]
    }
   ],
   "source": [
    "def apna_function(value):\n",
    "    return value[::-1]\n",
    "\n",
    "data = ['abc', 'def', 'ghi']\n",
    "rev_data = list(map(apna_function, data))\n",
    "print(rev_data)"
   ]
  },
  {
   "cell_type": "code",
   "execution_count": 31,
   "metadata": {},
   "outputs": [
    {
     "data": {
      "text/plain": [
       "[23, 12, 31, 12, 12, 31]"
      ]
     },
     "execution_count": 31,
     "metadata": {},
     "output_type": "execute_result"
    }
   ],
   "source": [
    "list(filter(lambda i: i>10 , x))"
   ]
  },
  {
   "cell_type": "code",
   "execution_count": 32,
   "metadata": {},
   "outputs": [
    {
     "data": {
      "text/plain": [
       "['Clark Kent', 'Bruce Wayne']"
      ]
     },
     "execution_count": 32,
     "metadata": {},
     "output_type": "execute_result"
    }
   ],
   "source": [
    "list(filter(lambda i: \"e\" in i, names))"
   ]
  },
  {
   "cell_type": "code",
   "execution_count": null,
   "metadata": {},
   "outputs": [],
   "source": []
  }
 ],
 "metadata": {
  "kernelspec": {
   "display_name": "Python 3",
   "language": "python",
   "name": "python3"
  },
  "language_info": {
   "codemirror_mode": {
    "name": "ipython",
    "version": 3
   },
   "file_extension": ".py",
   "mimetype": "text/x-python",
   "name": "python",
   "nbconvert_exporter": "python",
   "pygments_lexer": "ipython3",
   "version": "3.11.5"
  }
 },
 "nbformat": 4,
 "nbformat_minor": 2
}
